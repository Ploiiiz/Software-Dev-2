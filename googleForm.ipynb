{
 "cells": [
  {
   "cell_type": "code",
   "execution_count": 152,
   "metadata": {},
   "outputs": [],
   "source": [
    "from selenium import webdriver\n",
    "from webdriver_manager.chrome import ChromeDriverManager\n",
    "from selenium.webdriver.chrome.service import Service as ChromeService\n",
    "\n",
    "service = ChromeService(executable_path=ChromeDriverManager().install())"
   ]
  },
  {
   "cell_type": "code",
   "execution_count": 153,
   "metadata": {},
   "outputs": [],
   "source": [
    "driver = webdriver.Chrome(service=service)\n",
    "\n",
    "url = 'https://forms.gle/7LDCi8Nvs2NR5YZJ8'"
   ]
  },
  {
   "cell_type": "code",
   "execution_count": 154,
   "metadata": {},
   "outputs": [],
   "source": [
    "driver.get(url)"
   ]
  },
  {
   "cell_type": "code",
   "execution_count": 155,
   "metadata": {},
   "outputs": [],
   "source": [
    "from selenium.webdriver.common.by import By\n",
    "\n",
    "questions_class = 'Qr7Oae'\n",
    "dropdown_class = 'ry3kXd'\n",
    "\n",
    "timecontainer = 'vEXS5c'\n",
    "\n",
    "\n",
    "minified = {\n",
    "    'short':'whsOnd',\n",
    "    'radio':'AB7Lab',\n",
    "    'long':'KHxj8b',\n",
    "    'checkbox':'uHMk6b',\n",
    "    'dropdown':'MocG8c',\n",
    "    'datetime':'whsOnd',\n",
    "    'other' : 'Hvn9fb'\n",
    "    }\n",
    "\n",
    "questions = driver.find_elements(By.CLASS_NAME,questions_class)\n"
   ]
  },
  {
   "cell_type": "code",
   "execution_count": 156,
   "metadata": {},
   "outputs": [],
   "source": [
    "shortans = questions[0]\n",
    "foo = shortans.find_elements(By.CLASS_NAME,minified['short'])\n",
    "foo[0].clear()\n",
    "foo[0].send_keys('Micheal Minion')"
   ]
  },
  {
   "cell_type": "code",
   "execution_count": 157,
   "metadata": {},
   "outputs": [
    {
     "name": "stdout",
     "output_type": "stream",
     "text": [
      "[<selenium.webdriver.remote.webelement.WebElement (session=\"a962b267383fd239e14639c244f289b5\", element=\"bd1a7ad4-23aa-4a33-902b-232b9fddbd5e\")>]\n"
     ]
    }
   ],
   "source": [
    "radioquestion = questions[1]\n",
    "foo2 = radioquestion.find_elements(By.CLASS_NAME,minified['radio'])\n",
    "print(foo)\n",
    "import random as rd\n",
    "rdint = rd.randint(0,len(foo2)-1)\n",
    "foo2[rdint].click()"
   ]
  },
  {
   "cell_type": "code",
   "execution_count": 158,
   "metadata": {},
   "outputs": [
    {
     "name": "stdout",
     "output_type": "stream",
     "text": [
      "[0, 5]\n"
     ]
    }
   ],
   "source": [
    "checkboxes = questions[2]\n",
    "g = []\n",
    "foo3 = checkboxes.find_elements(By.CLASS_NAME,minified['checkbox'])\n",
    "# foo3.clear()\n",
    "rdcheckbox = rd.randint(1,len(foo3))#สุ่มจำนวนติ๊ก\n",
    "for i in range(rdcheckbox):\n",
    "    n = rd.randint(0,len(foo3)-1)\n",
    "    if( n not in g ):\n",
    "        g.append(n)     \n",
    "    \n",
    "print(g)\n",
    "\n",
    "#อยากให้สุ่มติ๊ก\n",
    "# for a in range(len(foo3)):\n",
    "#     foo3[a].click()\n",
    "# foo3[5].click()\n",
    "\n",
    "# ans = checkboxes.find_elements(By.CLASS_NAME,minified['other'])\n",
    "# ans[0].send_keys('hi')\n",
    "for a in g:\n",
    "\n",
    "\n",
    "    if a == 5 :\n",
    "        foo3[a].click()\n",
    "        ans = checkboxes.find_elements(By.CLASS_NAME,minified['other'])\n",
    "        ans[0].clear()\n",
    "        ans[0].send_keys('hi')\n",
    "    \n",
    "    else:\n",
    "        foo3[a].click()\n",
    "\n",
    "\n",
    "\n",
    "        \n",
    "\n",
    "# a.send_keys('hi')\n",
    "    "
   ]
  },
  {
   "cell_type": "code",
   "execution_count": 159,
   "metadata": {},
   "outputs": [],
   "source": [
    "longans = questions[3]\n",
    "foo4 = longans.find_elements(By.CLASS_NAME,minified['long'])\n",
    "foo4[0].clear()\n",
    "foo4[0].send_keys('Lorem ipsum dolor sit amet, consectetur adipiscing elit, sed do eiusmod tempor incididunt ut labore et dolore magna aliqua. Ut enim ad minim veniam, quis nostrud exercitation ullamco laboris nisi ut aliquip ex ea commodo consequat. Duis aute irure dolor in reprehenderit in voluptate velit esse cillum dolore eu fugiat nulla pariatur. Excepteur sint occaecat cupidatat non proident, sunt in culpa qui officia deserunt mollit anim id est laborum.')\n"
   ]
  },
  {
   "cell_type": "code",
   "execution_count": null,
   "metadata": {},
   "outputs": [],
   "source": []
  }
 ],
 "metadata": {
  "kernelspec": {
   "display_name": "Python 3",
   "language": "python",
   "name": "python3"
  },
  "language_info": {
   "codemirror_mode": {
    "name": "ipython",
    "version": 3
   },
   "file_extension": ".py",
   "mimetype": "text/x-python",
   "name": "python",
   "nbconvert_exporter": "python",
   "pygments_lexer": "ipython3",
   "version": "3.10.9 (tags/v3.10.9:1dd9be6, Dec  6 2022, 20:01:21) [MSC v.1934 64 bit (AMD64)]"
  },
  "orig_nbformat": 4,
  "vscode": {
   "interpreter": {
    "hash": "700e13444f410e1f170b89b7a3619519a85bc0ea5ce4fb4ad80f918454445fe4"
   }
  }
 },
 "nbformat": 4,
 "nbformat_minor": 2
}
