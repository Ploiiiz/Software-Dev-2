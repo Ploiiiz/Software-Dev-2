{
 "cells": [
  {
   "cell_type": "code",
   "execution_count": 9,
   "metadata": {},
   "outputs": [],
   "source": [
    "from selenium import webdriver\n",
    "from webdriver_manager.chrome import ChromeDriverManager\n",
    "from selenium.webdriver.chrome.service import Service as ChromeService\n",
    "\n",
    "service = ChromeService(executable_path=ChromeDriverManager().install())"
   ]
  },
  {
   "cell_type": "code",
   "execution_count": 10,
   "metadata": {},
   "outputs": [],
   "source": [
    "driver = webdriver.Chrome(service=service)\n",
    "\n",
    "url = 'https://forms.gle/7LDCi8Nvs2NR5YZJ8'"
   ]
  },
  {
   "cell_type": "code",
   "execution_count": 11,
   "metadata": {},
   "outputs": [],
   "source": [
    "driver.get(url)"
   ]
  },
  {
   "cell_type": "code",
   "execution_count": 12,
   "metadata": {},
   "outputs": [],
   "source": [
    "from selenium.webdriver.common.by import By\n",
    "\n",
    "questions_class = 'Qr7Oae'\n",
    "dropdown_class = 'ry3kXd'\n",
    "\n",
    "timecontainer = 'vEXS5c'\n",
    "\n",
    "\n",
    "minified = {\n",
    "    'short':'whsOnd',\n",
    "    'radio':'AB7Lab',\n",
    "    'long':'KHxj8b',\n",
    "    'checkbox':'uHMk6b',\n",
    "    'dropdown':'MocG8c',\n",
    "    'datetime':'whsOnd',\n",
    "    'other' : 'Hvn9fb'\n",
    "    }\n",
    "\n",
    "questions = driver.find_elements(By.CLASS_NAME,questions_class)\n"
   ]
  },
  {
   "cell_type": "code",
   "execution_count": 13,
   "metadata": {},
   "outputs": [],
   "source": [
    "shortans = questions[0]\n",
    "foo = shortans.find_elements(By.CLASS_NAME,minified['short'])\n",
    "foo[0].clear()\n",
    "foo[0].send_keys('Micheal Minion')"
   ]
  },
  {
   "cell_type": "code",
   "execution_count": 14,
   "metadata": {},
   "outputs": [
    {
     "name": "stdout",
     "output_type": "stream",
     "text": [
      "[<selenium.webdriver.remote.webelement.WebElement (session=\"c12d742bbfd29a951b2ca24a368d9102\", element=\"dcfc8f70-b4e4-4613-9ddb-e7fb3edecd0c\")>]\n"
     ]
    }
   ],
   "source": [
    "radioquestion = questions[1]\n",
    "foo2 = radioquestion.find_elements(By.CLASS_NAME,minified['radio'])\n",
    "print(foo)\n",
    "import random as rd\n",
    "rdint = rd.randint(0,len(foo2)-1)\n",
    "foo2[rdint].click()"
   ]
  },
  {
   "cell_type": "code",
   "execution_count": 15,
   "metadata": {},
   "outputs": [
    {
     "name": "stdout",
     "output_type": "stream",
     "text": [
      "[5, 3, 1, 0, 2]\n"
     ]
    }
   ],
   "source": [
    "checkboxes = questions[2]\n",
    "g = []\n",
    "foo3 = checkboxes.find_elements(By.CLASS_NAME,minified['checkbox'])\n",
    "# foo3.clear()\n",
    "rdcheckbox = rd.randint(1,len(foo3))#สุ่มจำนวนติ๊ก\n",
    "for i in range(rdcheckbox):\n",
    "    n = rd.randint(0,len(foo3)-1)\n",
    "    if( n not in g ):\n",
    "        g.append(n)     \n",
    "    \n",
    "print(g)\n",
    "\n",
    "#อยากให้สุ่มติ๊ก\n",
    "# for a in range(len(foo3)):\n",
    "#     foo3[a].click()\n",
    "# foo3[5].click()\n",
    "\n",
    "# ans = checkboxes.find_elements(By.CLASS_NAME,minified['other'])\n",
    "# ans[0].send_keys('hi')\n",
    "for a in g:\n",
    "\n",
    "\n",
    "    if a == 5 :\n",
    "        foo3[a].click()\n",
    "        ans = checkboxes.find_elements(By.CLASS_NAME,minified['other'])\n",
    "        ans[0].clear()\n",
    "        ans[0].send_keys('hi')\n",
    "    \n",
    "    else:\n",
    "        foo3[a].click()\n",
    "\n",
    "\n",
    "\n",
    "        \n",
    "\n",
    "# a.send_keys('hi')\n",
    "    "
   ]
  },
  {
   "cell_type": "code",
   "execution_count": 16,
   "metadata": {},
   "outputs": [],
   "source": [
    "longans = questions[3]\n",
    "foo4 = longans.find_elements(By.CLASS_NAME,minified['long'])\n",
    "foo4[0].clear()\n",
    "foo4[0].send_keys('Lorem ipsum dolor sit amet, consectetur adipiscing elit, sed do eiusmod tempor incididunt ut labore et dolore magna aliqua. Ut enim ad minim veniam, quis nostrud exercitation ullamco laboris nisi ut aliquip ex ea commodo consequat. Duis aute irure dolor in reprehenderit in voluptate velit esse cillum dolore eu fugiat nulla pariatur. Excepteur sint occaecat cupidatat non proident, sunt in culpa qui officia deserunt mollit anim id est laborum.')\n"
   ]
  },
  {
   "cell_type": "code",
   "execution_count": 13,
   "metadata": {},
   "outputs": [
    {
     "name": "stdout",
     "output_type": "stream",
     "text": [
      "79\n",
      "เฌอมาลย์ บุญยศักดิ์\n"
     ]
    }
   ],
   "source": [
    "name = '''กิ่งดาว ดารณี\n",
    "กชกร ส่งแสงเติม\n",
    "กุลณัฐ ปรียะวัฒน์\n",
    "กัญญา รัตนเพชร์\n",
    "กัญญารัตน์ พงศ์กัมปนาท\n",
    "กัญญาวีร์ สองเมือง\n",
    "กันยรินทร์ นิธินพรัศม์\n",
    "กาญจนา จินดาวัฒน์\n",
    "กาญจน์เกล้า ด้วยเศียรเกล้า\n",
    "กุณฑีรา สัตตบงกช\n",
    "กุลธิดา พริ้งเกษมชัย\n",
    "เกวลิน คอตแลนด์\n",
    "เกวลิน พูลภีไกร\n",
    "เกวลิน ศรีวรรณา\n",
    "เกศริน เอกธวัชกุล\n",
    "เกศรินทร์ น้อยผึ้ง\n",
    "เก็จมณี วรรธนะสิน\n",
    "แก่นใจ มีนะกนิษฐ์\n",
    "แก้วมณี วัฒนวรากุล\n",
    "กัญญ์ณรัณ วงศ์ขจรไกล\n",
    "กุลฑีรา ยอดช่าง\n",
    "กรณิศ เล้าสุบินประเสริฐ\n",
    "กรองทอง อำนวยสวัสดิ์\n",
    "กรองทอง รัชตะวรรณ\n",
    "เขมนิจ จามิกรณ์\n",
    "เขมิศรา พลเดช\n",
    "เข็มอัปสร สิริสุขะ\n",
    "เขมสรณ์ หนูขาว\n",
    "โขมพัสตร์ อรรถยา\n",
    "ขวัญตา บัวเปลี่ยนสี\n",
    "คริส หอวัง\n",
    "คามิลล่า กิตติวัฒน์\n",
    "คัคกิ่งรักส์ คิคคิคสะระณัง\n",
    "คัทลียา แมคอินทอช\n",
    "คลาวเดีย จักรพันธุ์\n",
    "คะนึงนิจ จักรสมิทธานนท์\n",
    "แคทรียา อิงลิช\n",
    "คิมเบอร์ลี แอน เทียมศิริ\n",
    "คริษฐา สังสะโอภาส\n",
    "จริญญา ศิริมงคลสกุล\n",
    "จรินทร์พร จุนเกียรติ\n",
    "จริยา แอนโฟเน่\n",
    "จรรยา ธนาสว่างกุล\n",
    "จารุณี สุขสวัสดิ์\n",
    "จามจุรี เชิดโฉม\n",
    "จารุวรรณ ปัญโญภาส\n",
    "จารุศิริ ภูวนัย\n",
    "จิรกิติยา บุญครองทรัพย์\n",
    "จิระวดี อิศรางกูร ณ อยุธยา\n",
    "จิรวรรณ เตชะหรูวิจิตร\n",
    "จีรนันท์ มะโนแจ่ม\n",
    "เจนี่ อัลภาชน์ ณ ป้อมเพชร\n",
    "เจมี่ บูเฮอร์\n",
    "เจสสิกา ภาสะพันธุ์\n",
    "เจสสิก้า เอสพินเนอร์\n",
    "จิดาภา ศิริบัญชาวรรณ\n",
    "จุรี โอศิริ\n",
    "ฉัตรฑริกา สิทธิพรม\n",
    "ฉันทนา ธาราจันทร์\n",
    "ฉัตรดาว สิทธิผล\n",
    "ชไมพร จตุรภุช\n",
    "ชนานา นุตาคม\n",
    "โชติกา วงศ์วิลาศ\n",
    "ชาลิดา วิจิตรวงศ์ทอง\n",
    "ชญานิษฐ์ ชาญสง่าเวช\n",
    "ชฎาพร วชิระปราณี\n",
    "ชฎาพร รัตนากร\n",
    "ชิดจันทร์ รุจิพรรณ\n",
    "ชาร์เลท วาศิตา แฮเมเนา\n",
    "ชมพู่ ก่อนบ่ายคลายเครียด\n",
    "ชนัญญา เลิศวัฒนามงคล\n",
    "ชนม์ทิดา อัศวเหม\n",
    "ชาเคอลีน มึ้นช์\n",
    "ชนิกานต์ ตังกบดี\n",
    "ชนิดาภา พงศ์ศิลป์พิพัฒน์\n",
    "ชุติมณฑน์ จึงเจริญสุขยิ่ง\n",
    "ซาร่า ผุงประเสริฐ\n",
    "เฌอปราง อารีย์กุล\n",
    "เฌอมาลย์ บุญยศักดิ์'''\n",
    "\n",
    "# a= name.strip('\\n')\n",
    "list = name.split('\\n')\n",
    "print(len(list))\n",
    "print(list[78])"
   ]
  }
 ],
 "metadata": {
  "kernelspec": {
   "display_name": "Python 3",
   "language": "python",
   "name": "python3"
  },
  "language_info": {
   "codemirror_mode": {
    "name": "ipython",
    "version": 3
   },
   "file_extension": ".py",
   "mimetype": "text/x-python",
   "name": "python",
   "nbconvert_exporter": "python",
   "pygments_lexer": "ipython3",
   "version": "3.10.9 (tags/v3.10.9:1dd9be6, Dec  6 2022, 20:01:21) [MSC v.1934 64 bit (AMD64)]"
  },
  "orig_nbformat": 4,
  "vscode": {
   "interpreter": {
    "hash": "700e13444f410e1f170b89b7a3619519a85bc0ea5ce4fb4ad80f918454445fe4"
   }
  }
 },
 "nbformat": 4,
 "nbformat_minor": 2
}
