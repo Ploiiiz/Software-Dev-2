{
 "cells": [
  {
   "cell_type": "code",
   "execution_count": 177,
   "metadata": {},
   "outputs": [
    {
     "name": "stderr",
     "output_type": "stream",
     "text": [
      "\n",
      "\n",
      "====== WebDriver manager ======\n",
      "Could not get version for google-chrome with the any command: reg query \"HKEY_CURRENT_USER\\Software\\Google\\Chrome\\BLBeacon\" /v version\n",
      "Current google-chrome version is UNKNOWN\n",
      "Get LATEST chromedriver version for UNKNOWN google-chrome\n",
      "Trying to download new driver from https://chromedriver.storage.googleapis.com/108.0.5359.71/chromedriver_win32.zip\n",
      "Driver has been saved in cache [C:\\Users\\eSERVICE\\.wdm\\drivers\\chromedriver\\win32\\108.0.5359.71]\n"
     ]
    }
   ],
   "source": [
    "from selenium import webdriver\n",
    "from webdriver_manager.chrome import ChromeDriverManager\n",
    "from selenium.webdriver.chrome.service import Service as ChromeService\n",
    "\n",
    "service = ChromeService(executable_path=ChromeDriverManager().install())\n",
    "\n"
   ]
  },
  {
   "cell_type": "code",
   "execution_count": 178,
   "metadata": {},
   "outputs": [],
   "source": [
    "driver = webdriver.Chrome(service=service)\n",
    "\n",
    "url = 'https://forms.gle/m1m9AFg5rp9LTYnZ8'"
   ]
  },
  {
   "cell_type": "code",
   "execution_count": 179,
   "metadata": {},
   "outputs": [],
   "source": [
    "driver.get(url)"
   ]
  },
  {
   "cell_type": "code",
   "execution_count": 180,
   "metadata": {},
   "outputs": [],
   "source": [
    "from selenium.webdriver.common.by import By\n",
    "\n",
    "questions_class = 'Qr7Oae'\n",
    "dropdown_class = 'ry3kXd'\n",
    "\n",
    "timecontainer = 'vEXS5c'\n",
    "\n",
    "\n",
    "minified = {\n",
    "    'short':'whsOnd',\n",
    "    'radio':'AB7Lab',\n",
    "    'long':'KHxj8b',\n",
    "    'checkbox':'uHMk6b',\n",
    "    'dropdown':'MocG8c',\n",
    "    'datetime':'whsOnd',\n",
    "    }\n",
    "\n",
    "questions = driver.find_elements(By.CLASS_NAME,questions_class)\n"
   ]
  },
  {
   "cell_type": "code",
   "execution_count": 181,
   "metadata": {},
   "outputs": [
    {
     "name": "stdout",
     "output_type": "stream",
     "text": [
      "[<selenium.webdriver.remote.webelement.WebElement (session=\"1c23cf495b4de2731cbf0bbe0280862b\", element=\"f0db97f4-6ede-4278-8843-7c9e47a1047d\")>, <selenium.webdriver.remote.webelement.WebElement (session=\"1c23cf495b4de2731cbf0bbe0280862b\", element=\"ccb86237-2063-4dbd-ab71-444c4f96598d\")>, <selenium.webdriver.remote.webelement.WebElement (session=\"1c23cf495b4de2731cbf0bbe0280862b\", element=\"28cb17a7-7cdc-4317-8803-68ddb6fddb0e\")>, <selenium.webdriver.remote.webelement.WebElement (session=\"1c23cf495b4de2731cbf0bbe0280862b\", element=\"9c70267a-68db-464d-9c94-0e33fc83d407\")>]\n"
     ]
    }
   ],
   "source": [
    "radioquestion = questions[0]\n",
    "foo = radioquestion.find_elements(By.CLASS_NAME,minified['radio'])\n",
    "print(foo)"
   ]
  },
  {
   "cell_type": "code",
   "execution_count": 182,
   "metadata": {},
   "outputs": [],
   "source": [
    "import random as rd\n",
    "rdint = rd.randint(0,len(foo)-1)\n",
    "\n",
    "foo[rdint].click()"
   ]
  },
  {
   "cell_type": "code",
   "execution_count": 183,
   "metadata": {},
   "outputs": [],
   "source": [
    "shortans = questions[1]"
   ]
  },
  {
   "cell_type": "code",
   "execution_count": 184,
   "metadata": {},
   "outputs": [],
   "source": [
    "foo2 = shortans.find_elements(By.CLASS_NAME,minified['short'])\n",
    "foo2[0].clear()\n",
    "foo2[0].send_keys('OLD')"
   ]
  },
  {
   "cell_type": "code",
   "execution_count": 185,
   "metadata": {},
   "outputs": [],
   "source": [
    "longans = questions[2]\n",
    "foo3 = longans.find_elements(By.CLASS_NAME,minified['long'])\n",
    "foo3[0].clear()\n",
    "foo3[0].send_keys('Lorem ipsum dolor sit amet, consectetur adipiscing elit, sed do eiusmod tempor incididunt ut labore et dolore magna aliqua. Ut enim ad minim veniam, quis nostrud exercitation ullamco laboris nisi ut aliquip ex ea commodo consequat. Duis aute irure dolor in reprehenderit in voluptate velit esse cillum dolore eu fugiat nulla pariatur. Excepteur sint occaecat cupidatat non proident, sunt in culpa qui officia deserunt mollit anim id est laborum.')\n"
   ]
  },
  {
   "cell_type": "code",
   "execution_count": 186,
   "metadata": {},
   "outputs": [],
   "source": [
    "checkboxes = questions[3]\n",
    "foo4 = checkboxes.find_elements(By.CLASS_NAME,minified['checkbox'])\n",
    "for a in foo4:\n",
    "    a.click()"
   ]
  },
  {
   "cell_type": "code",
   "execution_count": 187,
   "metadata": {},
   "outputs": [],
   "source": [
    "dropdowns = questions[4]\n",
    "foo5 = dropdowns.find_elements(By.CLASS_NAME,'jgvuAb')\n",
    "foo5[0].click()\n",
    "\n",
    "#foo5[rand].click()"
   ]
  },
  {
   "cell_type": "code",
   "execution_count": 188,
   "metadata": {},
   "outputs": [],
   "source": [
    "import time\n",
    "time.sleep(5)\n",
    "optionsbox = foo5[0].find_elements(By.CLASS_NAME,'OA0qNb')\n",
    "options = optionsbox[0].find_elements(By.CLASS_NAME,minified['dropdown'])\n",
    "rand = rd.randint(1,len(options)-1)\n",
    "options[rand].click()"
   ]
  },
  {
   "cell_type": "code",
   "execution_count": 189,
   "metadata": {},
   "outputs": [],
   "source": [
    "ranged = questions[5]\n",
    "foo6 = ranged.find_elements(By.CLASS_NAME,minified['radio'])\n",
    "rand = rd.randint(0,len(foo6)-1)\n",
    "foo6[rdint].click()"
   ]
  },
  {
   "cell_type": "code",
   "execution_count": 190,
   "metadata": {},
   "outputs": [],
   "source": [
    "rowcol = 'gTGYUd'\n",
    "rowscols = questions[6]\n",
    "foo7 = rowscols.find_elements(By.CLASS_NAME,'lLfZXe')\n",
    "for i in foo7:\n",
    "    choices = i.find_elements(By.CLASS_NAME,minified['radio'])\n",
    "    choices[0].click()"
   ]
  },
  {
   "cell_type": "code",
   "execution_count": 191,
   "metadata": {},
   "outputs": [
    {
     "name": "stdout",
     "output_type": "stream",
     "text": [
      "[<selenium.webdriver.remote.webelement.WebElement (session=\"1c23cf495b4de2731cbf0bbe0280862b\", element=\"b43534cc-f036-472e-80f7-b12194b646f5\")>]\n"
     ]
    }
   ],
   "source": [
    "rowcheck = 'gTGYUd'\n",
    "rowscheck = questions[7]\n",
    "foo8 = rowscheck.find_elements(By.CLASS_NAME,rowcheck)\n",
    "print(foo8)"
   ]
  },
  {
   "cell_type": "code",
   "execution_count": 192,
   "metadata": {},
   "outputs": [
    {
     "name": "stdout",
     "output_type": "stream",
     "text": [
      "[<selenium.webdriver.remote.webelement.WebElement (session=\"1c23cf495b4de2731cbf0bbe0280862b\", element=\"bbdd067c-577c-4079-87eb-b11bc203ad92\")>, <selenium.webdriver.remote.webelement.WebElement (session=\"1c23cf495b4de2731cbf0bbe0280862b\", element=\"00897d59-e463-492e-96d0-949aa7b41e78\")>]\n"
     ]
    }
   ],
   "source": [
    "row = 'EzyPc'\n",
    "rows = foo8[0].find_elements(By.CLASS_NAME,row)\n",
    "print(rows)"
   ]
  },
  {
   "cell_type": "code",
   "execution_count": 193,
   "metadata": {},
   "outputs": [],
   "source": [
    "for i in rows:\n",
    "    choices = i.find_elements(By.CLASS_NAME,minified['checkbox'])\n",
    "    for j in choices:\n",
    "        j.click()"
   ]
  },
  {
   "cell_type": "code",
   "execution_count": 194,
   "metadata": {},
   "outputs": [
    {
     "name": "stdout",
     "output_type": "stream",
     "text": [
      "[<selenium.webdriver.remote.webelement.WebElement (session=\"1c23cf495b4de2731cbf0bbe0280862b\", element=\"d8de90a9-f9c4-4535-8e5a-635a57d585d9\")>]\n"
     ]
    }
   ],
   "source": [
    "dateinput = questions[8]\n",
    "foo9 = dateinput.find_elements(By.CLASS_NAME,minified['datetime'])\n",
    "print(foo9)"
   ]
  },
  {
   "cell_type": "code",
   "execution_count": 195,
   "metadata": {},
   "outputs": [],
   "source": [
    "foo9[0].send_keys('01012020')"
   ]
  },
  {
   "cell_type": "code",
   "execution_count": 196,
   "metadata": {},
   "outputs": [],
   "source": [
    "timeinput = questions[9]\n",
    "foo10 = timeinput.find_elements(By.CLASS_NAME,timecontainer)\n",
    "for i in foo10:\n",
    "    box = i.find_element(By.CLASS_NAME,minified['datetime'])\n",
    "    box.clear()\n",
    "    box.send_keys('22')"
   ]
  },
  {
   "cell_type": "code",
   "execution_count": 197,
   "metadata": {},
   "outputs": [],
   "source": [
    "sub = driver.find_element(By.XPATH,'//*[@id=\"mG61Hd\"]/div[2]/div/div[3]/div[1]/div[1]/div')\n",
    "sub.click()"
   ]
  },
  {
   "cell_type": "code",
   "execution_count": null,
   "metadata": {},
   "outputs": [],
   "source": []
  }
 ],
 "metadata": {
  "kernelspec": {
   "display_name": "Python 3",
   "language": "python",
   "name": "python3"
  },
  "language_info": {
   "codemirror_mode": {
    "name": "ipython",
    "version": 3
   },
   "file_extension": ".py",
   "mimetype": "text/x-python",
   "name": "python",
   "nbconvert_exporter": "python",
   "pygments_lexer": "ipython3",
   "version": "3.9.7"
  },
  "orig_nbformat": 4,
  "vscode": {
   "interpreter": {
    "hash": "e066bf29d90ad0ce90fa6436010bbb5306a62b3a202eb3b05096de6cda459434"
   }
  }
 },
 "nbformat": 4,
 "nbformat_minor": 2
}
