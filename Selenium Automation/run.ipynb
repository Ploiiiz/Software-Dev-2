{
 "cells": [
  {
   "cell_type": "code",
   "execution_count": 4,
   "metadata": {},
   "outputs": [
    {
     "name": "stderr",
     "output_type": "stream",
     "text": [
      "[WDM] - Downloading: 100%|██████████| 7.95M/7.95M [00:02<00:00, 2.94MB/s]\n"
     ]
    }
   ],
   "source": [
    "from selenium import webdriver\n",
    "from webdriver_manager.chrome import ChromeDriverManager\n",
    "from selenium.webdriver.chrome.service import Service as ChromeService\n",
    "import time\n",
    "\n",
    "service = ChromeService(executable_path=ChromeDriverManager().install())\n",
    "\n"
   ]
  },
  {
   "cell_type": "code",
   "execution_count": 15,
   "metadata": {},
   "outputs": [],
   "source": [
    "driver = webdriver.Chrome(service=service)\n",
    "    \n",
    "url = 'https://forms.gle/Z8rARWqQ4Wxc1kCt8'\n"
   ]
  },
  {
   "cell_type": "code",
   "execution_count": 16,
   "metadata": {},
   "outputs": [],
   "source": [
    "driver.get(url)\n",
    "time.sleep(3)"
   ]
  },
  {
   "cell_type": "code",
   "execution_count": 17,
   "metadata": {},
   "outputs": [
    {
     "name": "stdout",
     "output_type": "stream",
     "text": [
      "<selenium.webdriver.remote.webelement.WebElement (session=\"d03d8702eab5935fed9389f471b37919\", element=\"72fc28f8-b0bb-48ab-9531-861cba761d78\")>\n"
     ]
    }
   ],
   "source": [
    "from selenium.webdriver.common.by import By\n",
    "from selenium.webdriver.common.keys import Keys\n",
    "email = driver.find_element(By.XPATH,\"//input[@type='email']\")\n",
    "print(email)"
   ]
  },
  {
   "cell_type": "code",
   "execution_count": 18,
   "metadata": {},
   "outputs": [
    {
     "ename": "TypeError",
     "evalue": "object of type 'WebElement' has no len()",
     "output_type": "error",
     "traceback": [
      "\u001b[0;31m---------------------------------------------------------------------------\u001b[0m",
      "\u001b[0;31mTypeError\u001b[0m                                 Traceback (most recent call last)",
      "Cell \u001b[0;32mIn[18], line 14\u001b[0m\n\u001b[1;32m     11\u001b[0m     p\u001b[39m.\u001b[39msend_keys(Keys\u001b[39m.\u001b[39mENTER)\n\u001b[1;32m     12\u001b[0m     time\u001b[39m.\u001b[39msleep(\u001b[39m6\u001b[39m)\n\u001b[0;32m---> 14\u001b[0m login(driver\u001b[39m=\u001b[39;49mdriver)\n",
      "Cell \u001b[0;32mIn[18], line 4\u001b[0m, in \u001b[0;36mlogin\u001b[0;34m(driver)\u001b[0m\n\u001b[1;32m      2\u001b[0m e \u001b[39m=\u001b[39m driver\u001b[39m.\u001b[39mfind_element(By\u001b[39m.\u001b[39mXPATH,\u001b[39m\"\u001b[39m\u001b[39m//input[@type=\u001b[39m\u001b[39m'\u001b[39m\u001b[39memail\u001b[39m\u001b[39m'\u001b[39m\u001b[39m]\u001b[39m\u001b[39m\"\u001b[39m)\n\u001b[1;32m      3\u001b[0m e\u001b[39m.\u001b[39mclear()\n\u001b[0;32m----> 4\u001b[0m e\u001b[39m.\u001b[39;49msend_keys(email)\n\u001b[1;32m      5\u001b[0m e\u001b[39m.\u001b[39msend_keys(Keys\u001b[39m.\u001b[39mENTER)\n\u001b[1;32m      6\u001b[0m time\u001b[39m.\u001b[39msleep(\u001b[39m3\u001b[39m)\n",
      "File \u001b[0;32m/opt/homebrew/lib/python3.10/site-packages/selenium/webdriver/remote/webelement.py:234\u001b[0m, in \u001b[0;36mWebElement.send_keys\u001b[0;34m(self, *value)\u001b[0m\n\u001b[1;32m    230\u001b[0m             remote_files\u001b[39m.\u001b[39mappend(\u001b[39mself\u001b[39m\u001b[39m.\u001b[39m_upload(file))\n\u001b[1;32m    231\u001b[0m         value \u001b[39m=\u001b[39m \u001b[39m\"\u001b[39m\u001b[39m\\n\u001b[39;00m\u001b[39m\"\u001b[39m\u001b[39m.\u001b[39mjoin(remote_files)\n\u001b[1;32m    233\u001b[0m \u001b[39mself\u001b[39m\u001b[39m.\u001b[39m_execute(\n\u001b[0;32m--> 234\u001b[0m     Command\u001b[39m.\u001b[39mSEND_KEYS_TO_ELEMENT, {\u001b[39m\"\u001b[39m\u001b[39mtext\u001b[39m\u001b[39m\"\u001b[39m: \u001b[39m\"\u001b[39m\u001b[39m\"\u001b[39m\u001b[39m.\u001b[39mjoin(keys_to_typing(value)), \u001b[39m\"\u001b[39m\u001b[39mvalue\u001b[39m\u001b[39m\"\u001b[39m: keys_to_typing(value)}\n\u001b[1;32m    235\u001b[0m )\n",
      "File \u001b[0;32m/opt/homebrew/lib/python3.10/site-packages/selenium/webdriver/common/utils.py:148\u001b[0m, in \u001b[0;36mkeys_to_typing\u001b[0;34m(value)\u001b[0m\n\u001b[1;32m    146\u001b[0m             _typing\u001b[39m.\u001b[39mappend(val[i])\n\u001b[1;32m    147\u001b[0m     \u001b[39melse\u001b[39;00m:\n\u001b[0;32m--> 148\u001b[0m         \u001b[39mfor\u001b[39;00m i \u001b[39min\u001b[39;00m \u001b[39mrange\u001b[39m(\u001b[39mlen\u001b[39;49m(val)):\n\u001b[1;32m    149\u001b[0m             _typing\u001b[39m.\u001b[39mappend(val[i])\n\u001b[1;32m    150\u001b[0m \u001b[39mreturn\u001b[39;00m _typing\n",
      "\u001b[0;31mTypeError\u001b[0m: object of type 'WebElement' has no len()"
     ]
    }
   ],
   "source": [
    "def login(driver):\n",
    "    e = driver.find_element(By.XPATH,\"//input[@type='email']\")\n",
    "    e.clear()\n",
    "    e.send_keys(email)\n",
    "    e.send_keys(Keys.ENTER)\n",
    "    time.sleep(3)\n",
    "\n",
    "    p = driver.find_element(By.XPATH,\"//input[@type='password']\")\n",
    "    p.clear()\n",
    "    p.send_keys(password)\n",
    "    p.send_keys(Keys.ENTER)\n",
    "    time.sleep(6)\n",
    "\n",
    "login(driver=driver)"
   ]
  },
  {
   "cell_type": "code",
   "execution_count": 15,
   "metadata": {},
   "outputs": [],
   "source": [
    "email.clear()\n",
    "email.send_keys('s6401012620251@email.kmutnb.ac.th')\n",
    "email.send_keys(Keys.ENTER)\n"
   ]
  },
  {
   "cell_type": "code",
   "execution_count": null,
   "metadata": {},
   "outputs": [],
   "source": [
    "pwd = driver.find_element(By.XPATH,\"//input[@type='password']\")\n",
    "pwd.clear()\n",
    "pwd.send_keys()\n",
    "pwd.send_keys(Keys.ENTER)"
   ]
  },
  {
   "cell_type": "code",
   "execution_count": 4,
   "metadata": {},
   "outputs": [],
   "source": [
    "from selenium.webdriver.common.by import By\n",
    "\n",
    "questions_class = 'Qr7Oae'\n",
    "dropdown_class = 'ry3kXd'\n",
    "\n",
    "timecontainer = 'vEXS5c'\n",
    "\n",
    "\n",
    "minified = {\n",
    "    'short':'whsOnd',\n",
    "    'radio':'AB7Lab',\n",
    "    'long':'KHxj8b',\n",
    "    'checkbox':'uHMk6b',\n",
    "    'dropdown':'MocG8c',\n",
    "    'datetime':'whsOnd',\n",
    "    }\n",
    "\n",
    "questions = driver.find_elements(By.CLASS_NAME,questions_class)\n"
   ]
  },
  {
   "cell_type": "code",
   "execution_count": 5,
   "metadata": {},
   "outputs": [
    {
     "name": "stdout",
     "output_type": "stream",
     "text": [
      "[<selenium.webdriver.remote.webelement.WebElement (session=\"fb0c8bdb8ddddf67dbb7b0354e8912c5\", element=\"9a22be25-3011-49b1-b158-c9df4590e35e\")>, <selenium.webdriver.remote.webelement.WebElement (session=\"fb0c8bdb8ddddf67dbb7b0354e8912c5\", element=\"cc8d667e-4fac-4d29-916b-77eff004ee77\")>, <selenium.webdriver.remote.webelement.WebElement (session=\"fb0c8bdb8ddddf67dbb7b0354e8912c5\", element=\"5495855d-117c-4cd5-a3b3-a3a6e4db8211\")>, <selenium.webdriver.remote.webelement.WebElement (session=\"fb0c8bdb8ddddf67dbb7b0354e8912c5\", element=\"f613bcfe-8996-4653-96c9-5ddb20b67022\")>]\n"
     ]
    }
   ],
   "source": [
    "radioquestion = questions[0]\n",
    "foo = radioquestion.find_elements(By.CLASS_NAME,minified['radio'])\n",
    "print(foo)"
   ]
  },
  {
   "cell_type": "code",
   "execution_count": 6,
   "metadata": {},
   "outputs": [],
   "source": [
    "import random as rd\n",
    "rdint = rd.randint(0,len(foo)-1)\n",
    "\n",
    "foo[rdint].click()"
   ]
  },
  {
   "cell_type": "code",
   "execution_count": 7,
   "metadata": {},
   "outputs": [],
   "source": [
    "shortans = questions[1]"
   ]
  },
  {
   "cell_type": "code",
   "execution_count": 8,
   "metadata": {},
   "outputs": [],
   "source": [
    "foo2 = shortans.find_elements(By.CLASS_NAME,minified['short'])\n",
    "foo2[0].clear()\n",
    "foo2[0].send_keys('OLD')"
   ]
  },
  {
   "cell_type": "code",
   "execution_count": 9,
   "metadata": {},
   "outputs": [],
   "source": [
    "longans = questions[2]\n",
    "foo3 = longans.find_elements(By.CLASS_NAME,minified['long'])\n",
    "foo3[0].clear()\n",
    "foo3[0].send_keys('Lorem ipsum dolor sit amet, consectetur adipiscing elit, sed do eiusmod tempor incididunt ut labore et dolore magna aliqua. Ut enim ad minim veniam, quis nostrud exercitation ullamco laboris nisi ut aliquip ex ea commodo consequat. Duis aute irure dolor in reprehenderit in voluptate velit esse cillum dolore eu fugiat nulla pariatur. Excepteur sint occaecat cupidatat non proident, sunt in culpa qui officia deserunt mollit anim id est laborum.')\n"
   ]
  },
  {
   "cell_type": "code",
   "execution_count": 10,
   "metadata": {},
   "outputs": [],
   "source": [
    "checkboxes = questions[3]\n",
    "foo4 = checkboxes.find_elements(By.CLASS_NAME,minified['checkbox'])\n",
    "for a in foo4:\n",
    "    a.click()"
   ]
  },
  {
   "cell_type": "code",
   "execution_count": 11,
   "metadata": {},
   "outputs": [],
   "source": [
    "dropdowns = questions[4]\n",
    "foo5 = dropdowns.find_elements(By.CLASS_NAME,'jgvuAb')\n",
    "foo5[0].click()\n",
    "\n",
    "#foo5[rand].click()"
   ]
  },
  {
   "cell_type": "code",
   "execution_count": 12,
   "metadata": {},
   "outputs": [],
   "source": [
    "import time\n",
    "time.sleep(5)\n",
    "optionsbox = foo5[0].find_elements(By.CLASS_NAME,'OA0qNb')\n",
    "options = optionsbox[0].find_elements(By.CLASS_NAME,minified['dropdown'])\n",
    "rand = rd.randint(1,len(options)-1)\n",
    "options[rand].click()"
   ]
  },
  {
   "cell_type": "code",
   "execution_count": 13,
   "metadata": {},
   "outputs": [],
   "source": [
    "ranged = questions[5]\n",
    "foo6 = ranged.find_elements(By.CLASS_NAME,minified['radio'])\n",
    "rand = rd.randint(0,len(foo6)-1)\n",
    "foo6[rdint].click()"
   ]
  },
  {
   "cell_type": "code",
   "execution_count": 14,
   "metadata": {},
   "outputs": [],
   "source": [
    "rowcol = 'gTGYUd'\n",
    "rowscols = questions[6]\n",
    "foo7 = rowscols.find_elements(By.CLASS_NAME,'lLfZXe')\n",
    "for i in foo7:\n",
    "    choices = i.find_elements(By.CLASS_NAME,minified['radio'])\n",
    "    choices[0].click()"
   ]
  },
  {
   "cell_type": "code",
   "execution_count": 15,
   "metadata": {},
   "outputs": [
    {
     "name": "stdout",
     "output_type": "stream",
     "text": [
      "[<selenium.webdriver.remote.webelement.WebElement (session=\"fb0c8bdb8ddddf67dbb7b0354e8912c5\", element=\"ae7fb7b9-f8a6-441a-802a-4d65630bb6f8\")>]\n"
     ]
    }
   ],
   "source": [
    "rowcheck = 'gTGYUd'\n",
    "rowscheck = questions[7]\n",
    "foo8 = rowscheck.find_elements(By.CLASS_NAME,rowcheck)\n",
    "print(foo8)"
   ]
  },
  {
   "cell_type": "code",
   "execution_count": 16,
   "metadata": {},
   "outputs": [
    {
     "name": "stdout",
     "output_type": "stream",
     "text": [
      "[<selenium.webdriver.remote.webelement.WebElement (session=\"fb0c8bdb8ddddf67dbb7b0354e8912c5\", element=\"318e5c69-e811-4bc4-bf56-1c2bd3972ede\")>, <selenium.webdriver.remote.webelement.WebElement (session=\"fb0c8bdb8ddddf67dbb7b0354e8912c5\", element=\"380bcee6-ce5e-4e5b-b78b-6cbfd7d493f1\")>]\n"
     ]
    }
   ],
   "source": [
    "row = 'EzyPc'\n",
    "rows = foo8[0].find_elements(By.CLASS_NAME,row)\n",
    "print(rows)"
   ]
  },
  {
   "cell_type": "code",
   "execution_count": 17,
   "metadata": {},
   "outputs": [],
   "source": [
    "for i in rows:\n",
    "    choices = i.find_elements(By.CLASS_NAME,minified['checkbox'])\n",
    "    for j in choices:\n",
    "        j.click()"
   ]
  },
  {
   "cell_type": "code",
   "execution_count": 18,
   "metadata": {},
   "outputs": [
    {
     "name": "stdout",
     "output_type": "stream",
     "text": [
      "[<selenium.webdriver.remote.webelement.WebElement (session=\"fb0c8bdb8ddddf67dbb7b0354e8912c5\", element=\"dac26f15-b4c1-443b-991b-b49afc764363\")>]\n"
     ]
    }
   ],
   "source": [
    "dateinput = questions[8]\n",
    "foo9 = dateinput.find_elements(By.CLASS_NAME,minified['datetime'])\n",
    "print(foo9)"
   ]
  },
  {
   "cell_type": "code",
   "execution_count": 19,
   "metadata": {},
   "outputs": [],
   "source": [
    "foo9[0].send_keys('01012020')"
   ]
  },
  {
   "cell_type": "code",
   "execution_count": 20,
   "metadata": {},
   "outputs": [],
   "source": [
    "timeinput = questions[9]\n",
    "foo10 = timeinput.find_elements(By.CLASS_NAME,timecontainer)\n",
    "for i in foo10:\n",
    "    box = i.find_element(By.CLASS_NAME,minified['datetime'])\n",
    "    box.clear()\n",
    "    box.send_keys('22')"
   ]
  },
  {
   "cell_type": "code",
   "execution_count": 21,
   "metadata": {},
   "outputs": [],
   "source": [
    "sub = driver.find_element(By.XPATH,'//*[@id=\"mG61Hd\"]/div[2]/div/div[3]/div[1]/div[1]/div')\n",
    "sub.click()"
   ]
  },
  {
   "cell_type": "code",
   "execution_count": null,
   "metadata": {},
   "outputs": [],
   "source": []
  }
 ],
 "metadata": {
  "kernelspec": {
   "display_name": "Python 3",
   "language": "python",
   "name": "python3"
  },
  "language_info": {
   "codemirror_mode": {
    "name": "ipython",
    "version": 3
   },
   "file_extension": ".py",
   "mimetype": "text/x-python",
   "name": "python",
   "nbconvert_exporter": "python",
   "pygments_lexer": "ipython3",
   "version": "3.10.9 (tags/v3.10.9:1dd9be6, Dec  6 2022, 20:01:21) [MSC v.1934 64 bit (AMD64)]"
  },
  "orig_nbformat": 4,
  "vscode": {
   "interpreter": {
    "hash": "700e13444f410e1f170b89b7a3619519a85bc0ea5ce4fb4ad80f918454445fe4"
   }
  }
 },
 "nbformat": 4,
 "nbformat_minor": 2
}
