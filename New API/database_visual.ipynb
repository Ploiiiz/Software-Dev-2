{
 "cells": [
  {
   "cell_type": "code",
   "execution_count": 3,
   "metadata": {},
   "outputs": [],
   "source": [
    "import sqlite3\n",
    "import pandas\n",
    "import av_getdata\n",
    "import credentials\n",
    "from pymongo import MongoClient"
   ]
  },
  {
   "cell_type": "code",
   "execution_count": 4,
   "metadata": {},
   "outputs": [],
   "source": [
    "conn = MongoClient('localhost', credentials.db_port)"
   ]
  },
  {
   "cell_type": "code",
   "execution_count": 5,
   "metadata": {},
   "outputs": [],
   "source": [
    "db = conn.stocksdata.usa_stocks"
   ]
  },
  {
   "cell_type": "code",
   "execution_count": 6,
   "metadata": {},
   "outputs": [
    {
     "data": {
      "text/plain": [
       "{'_id': ObjectId('63c6c9af1dfdf1ce1ff8ff34'),\n",
       " 'ticker': 'IBM',\n",
       " 'data': {'ticker': 'IBM',\n",
       "  'date': [],\n",
       "  'open': [],\n",
       "  'high': [],\n",
       "  'low': [],\n",
       "  'close': [],\n",
       "  'adjusted_close': [],\n",
       "  'volume': []}}"
      ]
     },
     "execution_count": 6,
     "metadata": {},
     "output_type": "execute_result"
    }
   ],
   "source": [
    "c = db.find_one({'ticker': 'IBM'})\n",
    "c"
   ]
  },
  {
   "cell_type": "code",
   "execution_count": 14,
   "metadata": {},
   "outputs": [],
   "source": [
    "def update(db,ticker,date,data):\n",
    "    open,high,low,close,adj,vol = data[0],data[1],data[2],data[3],data[4],data[5]\n",
    "    db.update_one({'ticker': ticker}, {'$push': {\n",
    "        'data.date' : date,\n",
    "        'data.open' : open,\n",
    "        'data.high' : high,\n",
    "        'data.low' : low,\n",
    "        'data.close' : close,\n",
    "        'data.adjusted_close' : adj,\n",
    "        'data.volume' : vol\n",
    "    }})"
   ]
  },
  {
   "cell_type": "code",
   "execution_count": 15,
   "metadata": {},
   "outputs": [],
   "source": [
    "update(db,'IBM',)"
   ]
  },
  {
   "cell_type": "code",
   "execution_count": 16,
   "metadata": {},
   "outputs": [],
   "source": [
    "import pandas\n",
    "from av_getdata import *\n",
    "from pprint import pprint\n",
    "import sys"
   ]
  },
  {
   "cell_type": "code",
   "execution_count": 17,
   "metadata": {},
   "outputs": [],
   "source": [
    "data = StocksData()\n",
    "ibm,meta = data.daily_adjusted('IBM','compact')"
   ]
  },
  {
   "cell_type": "code",
   "execution_count": 18,
   "metadata": {},
   "outputs": [],
   "source": [
    "i = ibm.head(7)"
   ]
  },
  {
   "cell_type": "code",
   "execution_count": 21,
   "metadata": {},
   "outputs": [
    {
     "name": "stdout",
     "output_type": "stream",
     "text": [
      "2023-01-13 00:00:00\n",
      "144.06 146.1 144.01 145.89 145.89 2455786.0\n",
      "2023-01-12 00:00:00\n",
      "144.88 146.66 144.52 145.55 145.55 2716118.0\n",
      "2023-01-11 00:00:00\n",
      "145.0 145.53 143.45 145.26 145.26 3268738.0\n",
      "2023-01-10 00:00:00\n",
      "143.61 144.85 142.9 144.8 144.8 2152172.0\n",
      "2023-01-09 00:00:00\n",
      "144.08 145.47 143.4 143.55 143.55 3987782.0\n",
      "2023-01-06 00:00:00\n",
      "142.38 144.25 141.58 143.7 143.7 3574042.0\n",
      "2023-01-05 00:00:00\n",
      "142.44 142.498 140.01 141.11 141.11 2866648.0\n"
     ]
    }
   ],
   "source": [
    "for d,values in zip(i.index,i.values):\n",
    "    date = d\n",
    "    data = values[:-2] # no dividend amount, split coefficient\n",
    "    print(date)\n",
    "    print(*data)\n",
    "    "
   ]
  },
  {
   "cell_type": "code",
   "execution_count": null,
   "metadata": {},
   "outputs": [],
   "source": []
  }
 ],
 "metadata": {
  "kernelspec": {
   "display_name": "Python 3",
   "language": "python",
   "name": "python3"
  },
  "language_info": {
   "codemirror_mode": {
    "name": "ipython",
    "version": 3
   },
   "file_extension": ".py",
   "mimetype": "text/x-python",
   "name": "python",
   "nbconvert_exporter": "python",
   "pygments_lexer": "ipython3",
   "version": "3.10.9"
  },
  "orig_nbformat": 4,
  "vscode": {
   "interpreter": {
    "hash": "b0fa6594d8f4cbf19f97940f81e996739fb7646882a419484c72d19e05852a7e"
   }
  }
 },
 "nbformat": 4,
 "nbformat_minor": 2
}
