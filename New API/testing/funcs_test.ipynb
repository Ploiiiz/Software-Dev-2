{
 "cells": [
  {
   "cell_type": "code",
   "execution_count": 1,
   "metadata": {},
   "outputs": [],
   "source": [
    "import credentials\n",
    "import av_caller\n",
    "import transformer\n",
    "import pandas as pd\n",
    "import db\n",
    "from prettified import *"
   ]
  },
  {
   "cell_type": "code",
   "execution_count": 2,
   "metadata": {},
   "outputs": [],
   "source": [
    "api_key = credentials.av_api_key\n",
    "# ts = TimeSeries(api_key)"
   ]
  },
  {
   "cell_type": "code",
   "execution_count": 3,
   "metadata": {},
   "outputs": [
    {
     "ename": "TypeError",
     "evalue": "'NoneType' object is not iterable",
     "output_type": "error",
     "traceback": [
      "\u001b[0;31m---------------------------------------------------------------------------\u001b[0m",
      "\u001b[0;31mTypeError\u001b[0m                                 Traceback (most recent call last)",
      "Cell \u001b[0;32mIn[3], line 1\u001b[0m\n\u001b[0;32m----> 1\u001b[0m prettified_news(\u001b[39m'\u001b[39;49m\u001b[39mABCDE\u001b[39;49m\u001b[39m'\u001b[39;49m)\n",
      "File \u001b[0;32m~/Documents/GitHub/Software-Dev-2/New API/testing/prettified.py:228\u001b[0m, in \u001b[0;36mprettified_news\u001b[0;34m(ticker)\u001b[0m\n\u001b[1;32m    221\u001b[0m \u001b[39m\u001b[39m\u001b[39m'''\u001b[39;00m\n\u001b[1;32m    222\u001b[0m \u001b[39m    Prettifies the news by for a given symbol\u001b[39;00m\n\u001b[1;32m    223\u001b[0m \u001b[39m    :param symbol: The symbol to get the news by for\u001b[39;00m\n\u001b[1;32m    224\u001b[0m \u001b[39m    :return: The news by dataframe and table name\u001b[39;00m\n\u001b[1;32m    225\u001b[0m \u001b[39m'''\u001b[39;00m\n\u001b[1;32m    226\u001b[0m data \u001b[39m=\u001b[39m av\u001b[39m.\u001b[39mnews(api_key\u001b[39m=\u001b[39mapi_key,\n\u001b[1;32m    227\u001b[0m                      tickers\u001b[39m=\u001b[39mticker)\n\u001b[0;32m--> 228\u001b[0m feed \u001b[39m=\u001b[39m tr\u001b[39m.\u001b[39;49mextract_news_feed(data)\n",
      "File \u001b[0;32m~/Documents/GitHub/Software-Dev-2/New API/testing/transformer.py:32\u001b[0m, in \u001b[0;36mextract_news_feed\u001b[0;34m(news_feed)\u001b[0m\n\u001b[1;32m     30\u001b[0m \u001b[39mdef\u001b[39;00m \u001b[39mextract_news_feed\u001b[39m(news_feed):\n\u001b[1;32m     31\u001b[0m     news_list \u001b[39m=\u001b[39m []\n\u001b[0;32m---> 32\u001b[0m     \u001b[39mfor\u001b[39;00m i \u001b[39min\u001b[39;00m news_feed:\n\u001b[1;32m     33\u001b[0m         news_list\u001b[39m.\u001b[39mappend(\u001b[39mtuple\u001b[39m(extract_news_info(i)))\n\u001b[1;32m     34\u001b[0m     \u001b[39mreturn\u001b[39;00m news_list\n",
      "\u001b[0;31mTypeError\u001b[0m: 'NoneType' object is not iterable"
     ]
    }
   ],
   "source": [
    "prettified_monthly_MACD('ABCDE')"
   ]
  },
  {
   "cell_type": "code",
   "execution_count": null,
   "metadata": {},
   "outputs": [],
   "source": []
  }
 ],
 "metadata": {
  "kernelspec": {
   "display_name": "Python 3",
   "language": "python",
   "name": "python3"
  },
  "language_info": {
   "codemirror_mode": {
    "name": "ipython",
    "version": 3
   },
   "file_extension": ".py",
   "mimetype": "text/x-python",
   "name": "python",
   "nbconvert_exporter": "python",
   "pygments_lexer": "ipython3",
   "version": "3.10.10"
  },
  "orig_nbformat": 4,
  "vscode": {
   "interpreter": {
    "hash": "bd385fe162c5ca0c84973b7dd5c518456272446b2b64e67c2a69f949ca7a1754"
   }
  }
 },
 "nbformat": 4,
 "nbformat_minor": 2
}
