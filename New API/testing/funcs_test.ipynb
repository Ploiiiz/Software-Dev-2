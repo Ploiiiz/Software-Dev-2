{
 "cells": [
  {
   "cell_type": "code",
   "execution_count": 1,
   "metadata": {},
   "outputs": [],
   "source": [
    "import credentials\n",
    "import av_caller\n",
    "import transformer\n",
    "import pandas as pd\n",
    "import db\n",
    "from prettified import *"
   ]
  },
  {
   "cell_type": "code",
   "execution_count": 2,
   "metadata": {},
   "outputs": [],
   "source": [
    "api_key = credentials.av_api_key\n",
    "# ts = TimeSeries(api_key)"
   ]
  },
  {
   "cell_type": "code",
   "execution_count": 3,
   "metadata": {},
   "outputs": [],
   "source": [
    "data, tname = prettified_monthly('AAPL')\n",
    "db.store_data(data,tname)"
   ]
  },
  {
   "cell_type": "code",
   "execution_count": 4,
   "metadata": {},
   "outputs": [
    {
     "data": {
      "text/html": [
       "<div>\n",
       "<style scoped>\n",
       "    .dataframe tbody tr th:only-of-type {\n",
       "        vertical-align: middle;\n",
       "    }\n",
       "\n",
       "    .dataframe tbody tr th {\n",
       "        vertical-align: top;\n",
       "    }\n",
       "\n",
       "    .dataframe thead th {\n",
       "        text-align: right;\n",
       "    }\n",
       "</style>\n",
       "<table border=\"1\" class=\"dataframe\">\n",
       "  <thead>\n",
       "    <tr style=\"text-align: right;\">\n",
       "      <th></th>\n",
       "      <th>Symbol</th>\n",
       "      <th>Open</th>\n",
       "      <th>High</th>\n",
       "      <th>Low</th>\n",
       "      <th>Price</th>\n",
       "      <th>Volume</th>\n",
       "      <th>Trading Day</th>\n",
       "      <th>Previous Close</th>\n",
       "      <th>Change</th>\n",
       "      <th>Change Percent</th>\n",
       "    </tr>\n",
       "  </thead>\n",
       "  <tbody>\n",
       "    <tr>\n",
       "      <th>0</th>\n",
       "      <td>MSFT</td>\n",
       "      <td>251.0800</td>\n",
       "      <td>252.7900</td>\n",
       "      <td>247.6000</td>\n",
       "      <td>248.5900</td>\n",
       "      <td>28333930</td>\n",
       "      <td>2023-03-10</td>\n",
       "      <td>252.3200</td>\n",
       "      <td>-3.7300</td>\n",
       "      <td>-1.4783%</td>\n",
       "    </tr>\n",
       "    <tr>\n",
       "      <th>1</th>\n",
       "      <td>MSFT</td>\n",
       "      <td>251.0800</td>\n",
       "      <td>252.7900</td>\n",
       "      <td>247.6000</td>\n",
       "      <td>248.5900</td>\n",
       "      <td>28333930</td>\n",
       "      <td>2023-03-10</td>\n",
       "      <td>252.3200</td>\n",
       "      <td>-3.7300</td>\n",
       "      <td>-1.4783%</td>\n",
       "    </tr>\n",
       "  </tbody>\n",
       "</table>\n",
       "</div>"
      ],
      "text/plain": [
       "  Symbol      Open      High       Low     Price    Volume Trading Day  \\\n",
       "0   MSFT  251.0800  252.7900  247.6000  248.5900  28333930  2023-03-10   \n",
       "1   MSFT  251.0800  252.7900  247.6000  248.5900  28333930  2023-03-10   \n",
       "\n",
       "  Previous Close   Change Change Percent  \n",
       "0       252.3200  -3.7300       -1.4783%  \n",
       "1       252.3200  -3.7300       -1.4783%  "
      ]
     },
     "execution_count": 4,
     "metadata": {},
     "output_type": "execute_result"
    }
   ],
   "source": [
    "db.read_table(tname)"
   ]
  },
  {
   "cell_type": "code",
   "execution_count": null,
   "metadata": {},
   "outputs": [],
   "source": []
  }
 ],
 "metadata": {
  "kernelspec": {
   "display_name": "Python 3",
   "language": "python",
   "name": "python3"
  },
  "language_info": {
   "codemirror_mode": {
    "name": "ipython",
    "version": 3
   },
   "file_extension": ".py",
   "mimetype": "text/x-python",
   "name": "python",
   "nbconvert_exporter": "python",
   "pygments_lexer": "ipython3",
   "version": "3.10.4"
  },
  "orig_nbformat": 4,
  "vscode": {
   "interpreter": {
    "hash": "bd385fe162c5ca0c84973b7dd5c518456272446b2b64e67c2a69f949ca7a1754"
   }
  }
 },
 "nbformat": 4,
 "nbformat_minor": 2
}
