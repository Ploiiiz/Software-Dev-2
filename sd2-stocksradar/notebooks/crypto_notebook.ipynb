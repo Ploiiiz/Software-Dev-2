{
 "cells": [
  {
   "cell_type": "code",
   "execution_count": 1,
   "metadata": {},
   "outputs": [],
   "source": [
    "import yahoo_fin.stock_info as si\n",
    "import yfinance as yf\n",
    "import alpha_vantage as av\n",
    "from binance import Client, ThreadedWebsocketManager, ThreadedDepthCacheManager\n",
    "from datetime import datetime"
   ]
  },
  {
   "cell_type": "code",
   "execution_count": 14,
   "metadata": {},
   "outputs": [
    {
     "data": {
      "text/plain": [
       "{'language': 'en-US',\n",
       " 'region': 'US',\n",
       " 'quoteType': 'CRYPTOCURRENCY',\n",
       " 'typeDisp': 'Cryptocurrency',\n",
       " 'quoteSourceName': 'CoinMarketCap',\n",
       " 'triggerable': True,\n",
       " 'customPriceAlertConfidence': 'HIGH',\n",
       " 'currency': 'USD',\n",
       " 'firstTradeDateMilliseconds': 1410912000000,\n",
       " 'priceHint': 2,\n",
       " 'circulatingSupply': 19322706,\n",
       " 'lastMarket': 'CoinMarketCap',\n",
       " 'volume24Hr': 47909572608,\n",
       " 'volumeAllCurrencies': 47909572608,\n",
       " 'fromCurrency': 'BTC',\n",
       " 'toCurrency': 'USD=X',\n",
       " 'coinMarketCapLink': 'https://coinmarketcap.com/currencies/bitcoin',\n",
       " 'exchange': 'CCC',\n",
       " 'shortName': 'Bitcoin USD',\n",
       " 'marketState': 'REGULAR',\n",
       " 'tradeable': False,\n",
       " 'cryptoTradeable': True,\n",
       " 'longName': 'Bitcoin USD',\n",
       " 'messageBoardId': 'finmb_BTC_CCC',\n",
       " 'exchangeTimezoneName': 'UTC',\n",
       " 'exchangeTimezoneShortName': 'UTC',\n",
       " 'gmtOffSetMilliseconds': 0,\n",
       " 'market': 'ccc_market',\n",
       " 'esgPopulated': False,\n",
       " 'regularMarketChangePercent': 4.5706573,\n",
       " 'regularMarketPrice': 28319.926,\n",
       " 'regularMarketChange': 1237.832,\n",
       " 'regularMarketTime': 1679307000,\n",
       " 'regularMarketPreviousClose': 28090.598,\n",
       " 'fullExchangeName': 'CCC',\n",
       " 'regularMarketOpen': 28090.598,\n",
       " 'averageDailyVolume3Month': 24147897849,\n",
       " 'averageDailyVolume10Day': 39746589976,\n",
       " 'startDate': 1367107200,\n",
       " 'coinImageUrl': 'https://s2.coinmarketcap.com/static/img/coins/64x64/1.png',\n",
       " 'logoUrl': 'https://s2.coinmarketcap.com/static/img/coins/64x64/1.png',\n",
       " 'fiftyTwoWeekLowChange': 12720.879,\n",
       " 'fiftyTwoWeekLowChangePercent': 0.8154908,\n",
       " 'fiftyTwoWeekRange': '15599.047 - 48086.836',\n",
       " 'fiftyTwoWeekHighChange': -19766.91,\n",
       " 'fiftyTwoWeekHighChangePercent': -0.41106698,\n",
       " 'fiftyTwoWeekLow': 15599.047,\n",
       " 'fiftyTwoWeekHigh': 48086.836,\n",
       " 'fiftyDayAverage': 23241.242,\n",
       " 'fiftyDayAverageChange': 5078.6836,\n",
       " 'fiftyDayAverageChangePercent': 0.21852031,\n",
       " 'twoHundredDayAverage': 19869.355,\n",
       " 'twoHundredDayAverageChange': 8450.57,\n",
       " 'twoHundredDayAverageChangePercent': 0.4253067,\n",
       " 'marketCap': 547217604608,\n",
       " 'sourceInterval': 15,\n",
       " 'exchangeDataDelayedBy': 0,\n",
       " 'regularMarketDayHigh': 28461.105,\n",
       " 'regularMarketDayRange': '27242.88 - 28461.105',\n",
       " 'regularMarketDayLow': 27242.88,\n",
       " 'regularMarketVolume': 47909572608,\n",
       " 'symbol': 'BTC-USD'}"
      ]
     },
     "execution_count": 14,
     "metadata": {},
     "output_type": "execute_result"
    }
   ],
   "source": [
    "si.get_quote_data('BTC-USD')"
   ]
  },
  {
   "cell_type": "code",
   "execution_count": null,
   "metadata": {},
   "outputs": [],
   "source": []
  }
 ],
 "metadata": {
  "kernelspec": {
   "display_name": "radarenv",
   "language": "python",
   "name": "python3"
  },
  "language_info": {
   "codemirror_mode": {
    "name": "ipython",
    "version": 3
   },
   "file_extension": ".py",
   "mimetype": "text/x-python",
   "name": "python",
   "nbconvert_exporter": "python",
   "pygments_lexer": "ipython3",
   "version": "3.11.0"
  },
  "orig_nbformat": 4
 },
 "nbformat": 4,
 "nbformat_minor": 2
}
