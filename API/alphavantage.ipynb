{
 "cells": [
  {
   "cell_type": "code",
   "execution_count": 5,
   "metadata": {},
   "outputs": [],
   "source": [
    "import requests\n",
    "import csv\n",
    "import pandas\n",
    "\n",
    "api_key = \"4JJ6E759L3IN858J\"\n",
    "url = \"https://www.alphavantage.co/query\"\n"
   ]
  },
  {
   "cell_type": "code",
   "execution_count": 38,
   "metadata": {},
   "outputs": [
    {
     "data": {
      "text/plain": [
       "<Response [200]>"
      ]
     },
     "execution_count": 38,
     "metadata": {},
     "output_type": "execute_result"
    }
   ],
   "source": [
    "def getListingStatus():\n",
    "    params = {\n",
    "        \"function\"  :   \"LISTING_STATUS\",\n",
    "        \"apikey\"    :   api_key\n",
    "    }\n",
    "    response = requests.request(\"GET\",url,params=params)\n",
    "    return response\n",
    "getRequest()"
   ]
  },
  {
   "cell_type": "code",
   "execution_count": 39,
   "metadata": {},
   "outputs": [],
   "source": [
    "def test_statusCode(response):\n",
    "    status_code = response.status_code\n",
    "    assert status_code == 200\n",
    "\n",
    "listingStatus = getListingStatus()\n",
    "\n",
    "test_statusCode(listingStatus)"
   ]
  },
  {
   "cell_type": "code",
   "execution_count": 41,
   "metadata": {},
   "outputs": [],
   "source": [
    "def contentToCSV(response,filename):\n",
    "    decoded_content = response.content.decode('utf-8')\n",
    "    content = csv.reader(decoded_content.splitlines(), delimiter=',')\n",
    "    content_list = list(content)\n",
    "    with open(filename,'w') as m:\n",
    "        for row in content_list:\n",
    "            m.write(','.join(row))\n",
    "            m.write('\\n')\n",
    "\n",
    "listingStatus = getListingStatus()\n",
    "contentToCSV(listingStatus,'listing_status.csv')"
   ]
  },
  {
   "cell_type": "code",
   "execution_count": 44,
   "metadata": {},
   "outputs": [],
   "source": [
    "def test_fileOut(filename):\n",
    "    out = open(filename,'r')\n",
    "    out.close()\n",
    "    assert out != FileNotFoundError\n",
    "\n",
    "file = 'listing_status.csv'\n",
    "test_fileOut(file)"
   ]
  },
  {
   "cell_type": "code",
   "execution_count": 19,
   "metadata": {},
   "outputs": [
    {
     "data": {
      "text/html": [
       "<div>\n",
       "<style scoped>\n",
       "    .dataframe tbody tr th:only-of-type {\n",
       "        vertical-align: middle;\n",
       "    }\n",
       "\n",
       "    .dataframe tbody tr th {\n",
       "        vertical-align: top;\n",
       "    }\n",
       "\n",
       "    .dataframe thead th {\n",
       "        text-align: right;\n",
       "    }\n",
       "</style>\n",
       "<table border=\"1\" class=\"dataframe\">\n",
       "  <thead>\n",
       "    <tr style=\"text-align: right;\">\n",
       "      <th></th>\n",
       "      <th>symbol</th>\n",
       "      <th>name</th>\n",
       "      <th>exchange</th>\n",
       "      <th>assetType</th>\n",
       "      <th>ipoDate</th>\n",
       "      <th>delistingDate</th>\n",
       "      <th>status</th>\n",
       "    </tr>\n",
       "  </thead>\n",
       "  <tbody>\n",
       "    <tr>\n",
       "      <th>0</th>\n",
       "      <td>A</td>\n",
       "      <td>Agilent Technologies Inc</td>\n",
       "      <td>NYSE</td>\n",
       "      <td>Stock</td>\n",
       "      <td>1999-11-18</td>\n",
       "      <td>NaN</td>\n",
       "      <td>Active</td>\n",
       "    </tr>\n",
       "    <tr>\n",
       "      <th>1</th>\n",
       "      <td>AA</td>\n",
       "      <td>Alcoa Corp</td>\n",
       "      <td>NYSE</td>\n",
       "      <td>Stock</td>\n",
       "      <td>2016-10-18</td>\n",
       "      <td>NaN</td>\n",
       "      <td>Active</td>\n",
       "    </tr>\n",
       "    <tr>\n",
       "      <th>2</th>\n",
       "      <td>AAA</td>\n",
       "      <td>AXS FIRST PRIORITY CLO BOND ETF</td>\n",
       "      <td>NYSE ARCA</td>\n",
       "      <td>ETF</td>\n",
       "      <td>2020-09-09</td>\n",
       "      <td>NaN</td>\n",
       "      <td>Active</td>\n",
       "    </tr>\n",
       "    <tr>\n",
       "      <th>3</th>\n",
       "      <td>AAAU</td>\n",
       "      <td>Goldman Sachs Physical Gold ETF</td>\n",
       "      <td>BATS</td>\n",
       "      <td>ETF</td>\n",
       "      <td>2018-08-15</td>\n",
       "      <td>NaN</td>\n",
       "      <td>Active</td>\n",
       "    </tr>\n",
       "    <tr>\n",
       "      <th>4</th>\n",
       "      <td>AAC</td>\n",
       "      <td>Ares Acquisition Corporation - Class A</td>\n",
       "      <td>NYSE</td>\n",
       "      <td>Stock</td>\n",
       "      <td>2021-03-25</td>\n",
       "      <td>NaN</td>\n",
       "      <td>Active</td>\n",
       "    </tr>\n",
       "    <tr>\n",
       "      <th>...</th>\n",
       "      <td>...</td>\n",
       "      <td>...</td>\n",
       "      <td>...</td>\n",
       "      <td>...</td>\n",
       "      <td>...</td>\n",
       "      <td>...</td>\n",
       "      <td>...</td>\n",
       "    </tr>\n",
       "    <tr>\n",
       "      <th>11813</th>\n",
       "      <td>ZYNE</td>\n",
       "      <td>Zynerba Pharmaceuticals Inc</td>\n",
       "      <td>NASDAQ</td>\n",
       "      <td>Stock</td>\n",
       "      <td>2015-08-05</td>\n",
       "      <td>NaN</td>\n",
       "      <td>Active</td>\n",
       "    </tr>\n",
       "    <tr>\n",
       "      <th>11814</th>\n",
       "      <td>ZYRX</td>\n",
       "      <td>Global Earnings Capital Ltd</td>\n",
       "      <td>NASDAQ</td>\n",
       "      <td>Stock</td>\n",
       "      <td>2007-07-13</td>\n",
       "      <td>NaN</td>\n",
       "      <td>Active</td>\n",
       "    </tr>\n",
       "    <tr>\n",
       "      <th>11815</th>\n",
       "      <td>ZYXI</td>\n",
       "      <td>Zynex Inc</td>\n",
       "      <td>NASDAQ</td>\n",
       "      <td>Stock</td>\n",
       "      <td>2012-07-23</td>\n",
       "      <td>NaN</td>\n",
       "      <td>Active</td>\n",
       "    </tr>\n",
       "    <tr>\n",
       "      <th>11816</th>\n",
       "      <td>ZZK</td>\n",
       "      <td>NaN</td>\n",
       "      <td>NYSE ARCA</td>\n",
       "      <td>Stock</td>\n",
       "      <td>2020-07-22</td>\n",
       "      <td>NaN</td>\n",
       "      <td>Active</td>\n",
       "    </tr>\n",
       "    <tr>\n",
       "      <th>11817</th>\n",
       "      <td>ZZZ</td>\n",
       "      <td>TEST TICKER FOR UTP</td>\n",
       "      <td>NYSE ARCA</td>\n",
       "      <td>Stock</td>\n",
       "      <td>2014-10-31</td>\n",
       "      <td>NaN</td>\n",
       "      <td>Active</td>\n",
       "    </tr>\n",
       "  </tbody>\n",
       "</table>\n",
       "<p>11818 rows × 7 columns</p>\n",
       "</div>"
      ],
      "text/plain": [
       "      symbol                                    name   exchange assetType  \\\n",
       "0          A                Agilent Technologies Inc       NYSE     Stock   \n",
       "1         AA                              Alcoa Corp       NYSE     Stock   \n",
       "2        AAA        AXS FIRST PRIORITY CLO BOND ETF   NYSE ARCA       ETF   \n",
       "3       AAAU         Goldman Sachs Physical Gold ETF       BATS       ETF   \n",
       "4        AAC  Ares Acquisition Corporation - Class A       NYSE     Stock   \n",
       "...      ...                                     ...        ...       ...   \n",
       "11813   ZYNE             Zynerba Pharmaceuticals Inc     NASDAQ     Stock   \n",
       "11814   ZYRX             Global Earnings Capital Ltd     NASDAQ     Stock   \n",
       "11815   ZYXI                               Zynex Inc     NASDAQ     Stock   \n",
       "11816    ZZK                                     NaN  NYSE ARCA     Stock   \n",
       "11817    ZZZ                     TEST TICKER FOR UTP  NYSE ARCA     Stock   \n",
       "\n",
       "          ipoDate  delistingDate  status  \n",
       "0      1999-11-18            NaN  Active  \n",
       "1      2016-10-18            NaN  Active  \n",
       "2      2020-09-09            NaN  Active  \n",
       "3      2018-08-15            NaN  Active  \n",
       "4      2021-03-25            NaN  Active  \n",
       "...           ...            ...     ...  \n",
       "11813  2015-08-05            NaN  Active  \n",
       "11814  2007-07-13            NaN  Active  \n",
       "11815  2012-07-23            NaN  Active  \n",
       "11816  2020-07-22            NaN  Active  \n",
       "11817  2014-10-31            NaN  Active  \n",
       "\n",
       "[11818 rows x 7 columns]"
      ]
     },
     "execution_count": 19,
     "metadata": {},
     "output_type": "execute_result"
    }
   ],
   "source": [
    "def listingDataFrame():\n",
    "    with open('listing_status.csv','r') as data:\n",
    "        listing_df = pandas.read_csv(data)\n",
    "    return listing_df\n",
    "listingDataFrame()"
   ]
  },
  {
   "cell_type": "code",
   "execution_count": 45,
   "metadata": {},
   "outputs": [
    {
     "data": {
      "text/plain": [
       "True"
      ]
     },
     "execution_count": 45,
     "metadata": {},
     "output_type": "execute_result"
    }
   ],
   "source": [
    "def test_entryCount():\n",
    "    count_csv = 0\n",
    "    with open('listing_status.csv','r') as m:\n",
    "        for i in m:\n",
    "            count_csv += 1\n",
    "        count_csv -= 1\n",
    "    count_df = listingDataFrame().shape[0]\n",
    "    if count_csv == count_df:\n",
    "        return True\n",
    "    else:\n",
    "        return False\n",
    "test_entryCount()"
   ]
  },
  {
   "cell_type": "code",
   "execution_count": 33,
   "metadata": {},
   "outputs": [
    {
     "data": {
      "text/plain": [
       "<Response [200]>"
      ]
     },
     "execution_count": 33,
     "metadata": {},
     "output_type": "execute_result"
    }
   ],
   "source": [
    "def getFullDailyData(symbol):\n",
    "    params = {\n",
    "        \"function\"  :   \"TIME_SERIES_DAILY_ADJUSTED\",\n",
    "        \"symbol\"    :   symbol,\n",
    "        \"apikey\"    :   api_key,\n",
    "        \"datatype\"  :   \"csv\",\n",
    "        \"outputsize\":   \"full\"\n",
    "    }\n",
    "    response = requests.request(\"GET\",url,params=params)\n",
    "    return response\n",
    "getFullDailyData('ITCM')\n",
    "\n"
   ]
  },
  {
   "cell_type": "code",
   "execution_count": 37,
   "metadata": {},
   "outputs": [
    {
     "data": {
      "text/plain": [
       "False"
      ]
     },
     "execution_count": 37,
     "metadata": {},
     "output_type": "execute_result"
    }
   ],
   "source": [
    "def test_checkContent(response):\n",
    "    decoded_content = response.content.decode('utf-8')\n",
    "    err = \"Error\" in decoded_content\n",
    "    assert err == False\n",
    "    \n",
    "checkContent(getFullDailyData('IBM'))\n",
    "    "
   ]
  },
  {
   "cell_type": "code",
   "execution_count": 48,
   "metadata": {},
   "outputs": [],
   "source": [
    "symbol = 'IBM'\n",
    "filename = symbol\n",
    "content = getFullDailyData(symbol)\n",
    "contentToCSV(content,filename)\n"
   ]
  },
  {
   "cell_type": "code",
   "execution_count": 52,
   "metadata": {},
   "outputs": [
    {
     "data": {
      "text/plain": [
       "pandas.core.frame.DataFrame"
      ]
     },
     "execution_count": 52,
     "metadata": {},
     "output_type": "execute_result"
    }
   ],
   "source": [
    "def makeDataFrame(filename):\n",
    "    df = pandas.read_csv(filename)\n",
    "    return df\n",
    "df = makeDataFrame(\"IBM.csv\")\n",
    "type(df)"
   ]
  },
  {
   "cell_type": "code",
   "execution_count": null,
   "metadata": {},
   "outputs": [],
   "source": []
  }
 ],
 "metadata": {
  "kernelspec": {
   "display_name": "Python 3",
   "language": "python",
   "name": "python3"
  },
  "language_info": {
   "codemirror_mode": {
    "name": "ipython",
    "version": 3
   },
   "file_extension": ".py",
   "mimetype": "text/x-python",
   "name": "python",
   "nbconvert_exporter": "python",
   "pygments_lexer": "ipython3",
   "version": "3.10.4 (tags/v3.10.4:9d38120, Mar 23 2022, 23:13:41) [MSC v.1929 64 bit (AMD64)]"
  },
  "orig_nbformat": 4,
  "vscode": {
   "interpreter": {
    "hash": "369f2c481f4da34e4445cda3fffd2e751bd1c4d706f27375911949ba6bb62e1c"
   }
  }
 },
 "nbformat": 4,
 "nbformat_minor": 2
}
