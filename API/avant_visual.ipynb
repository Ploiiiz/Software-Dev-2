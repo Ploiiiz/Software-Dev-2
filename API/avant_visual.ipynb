{
 "cells": [
  {
   "cell_type": "code",
   "execution_count": 27,
   "metadata": {},
   "outputs": [],
   "source": [
    "import pandas\n",
    "import dask.dataframe as dd\n",
    "\n",
    "with open('alphavantage_apple_daily_full.csv','r') as file:\n",
    "    df = pandas.read_csv(file)\n",
    "    df.index = pd.DatetimeIndex(df['timestamp'])\n",
    "\n",
    "data = dd.read_csv('alphavantage_apple_daily_full.csv')\n",
    "\n"
   ]
  },
  {
   "cell_type": "code",
   "execution_count": 8,
   "metadata": {},
   "outputs": [
    {
     "data": {
      "text/html": [
       "<div><strong>Dask DataFrame Structure:</strong></div>\n",
       "<div>\n",
       "<style scoped>\n",
       "    .dataframe tbody tr th:only-of-type {\n",
       "        vertical-align: middle;\n",
       "    }\n",
       "\n",
       "    .dataframe tbody tr th {\n",
       "        vertical-align: top;\n",
       "    }\n",
       "\n",
       "    .dataframe thead th {\n",
       "        text-align: right;\n",
       "    }\n",
       "</style>\n",
       "<table border=\"1\" class=\"dataframe\">\n",
       "  <thead>\n",
       "    <tr style=\"text-align: right;\">\n",
       "      <th></th>\n",
       "      <th>timestamp</th>\n",
       "      <th>open</th>\n",
       "      <th>high</th>\n",
       "      <th>low</th>\n",
       "      <th>close</th>\n",
       "      <th>adjusted_close</th>\n",
       "      <th>volume</th>\n",
       "      <th>dividend_amount</th>\n",
       "      <th>split_coefficient</th>\n",
       "    </tr>\n",
       "    <tr>\n",
       "      <th>npartitions=1</th>\n",
       "      <th></th>\n",
       "      <th></th>\n",
       "      <th></th>\n",
       "      <th></th>\n",
       "      <th></th>\n",
       "      <th></th>\n",
       "      <th></th>\n",
       "      <th></th>\n",
       "      <th></th>\n",
       "    </tr>\n",
       "  </thead>\n",
       "  <tbody>\n",
       "    <tr>\n",
       "      <th></th>\n",
       "      <td>object</td>\n",
       "      <td>float64</td>\n",
       "      <td>float64</td>\n",
       "      <td>float64</td>\n",
       "      <td>float64</td>\n",
       "      <td>float64</td>\n",
       "      <td>int64</td>\n",
       "      <td>float64</td>\n",
       "      <td>float64</td>\n",
       "    </tr>\n",
       "    <tr>\n",
       "      <th></th>\n",
       "      <td>...</td>\n",
       "      <td>...</td>\n",
       "      <td>...</td>\n",
       "      <td>...</td>\n",
       "      <td>...</td>\n",
       "      <td>...</td>\n",
       "      <td>...</td>\n",
       "      <td>...</td>\n",
       "      <td>...</td>\n",
       "    </tr>\n",
       "  </tbody>\n",
       "</table>\n",
       "</div>\n",
       "<div>Dask Name: read-csv, 1 graph layer</div>"
      ],
      "text/plain": [
       "Dask DataFrame Structure:\n",
       "              timestamp     open     high      low    close adjusted_close volume dividend_amount split_coefficient\n",
       "npartitions=1                                                                                                      \n",
       "                 object  float64  float64  float64  float64        float64  int64         float64           float64\n",
       "                    ...      ...      ...      ...      ...            ...    ...             ...               ...\n",
       "Dask Name: read-csv, 1 graph layer"
      ]
     },
     "execution_count": 8,
     "metadata": {},
     "output_type": "execute_result"
    }
   ],
   "source": []
  },
  {
   "cell_type": "code",
   "execution_count": 17,
   "metadata": {},
   "outputs": [],
   "source": [
    "import plotly.graph_objects as go\n",
    "\n",
    "from datetime import datetime\n",
    "\n",
    "fig = go.Figure(data=[go.Candlestick(x=data['timestamp'],\n",
    "                open=data['open'],\n",
    "                high=data['high'],\n",
    "                low=data['low'],\n",
    "                close=data['close'])])\n",
    "\n"
   ]
  },
  {
   "cell_type": "code",
   "execution_count": 18,
   "metadata": {},
   "outputs": [
    {
     "data": {
      "application/vnd.plotly.v1+json": {
       "config": {
        "plotlyServerURL": "https://plot.ly"
       },
       "data": [
        {
         "close": [
          129.93,
          129.61,
          126.04,
          130.03,
          131.86,
          132.23,
          135.45,
          132.3,
          132.37,
          134.51,
          136.5,
          143.21,
          145.47,
          144.49,
          142.16,
          142.65,
          140.94,
          142.91,
          146.63,
          147.81,
          148.31,
          148.03,
          141.17,
          144.22,
          148.11,
          151.07,
          150.18,
          148.01,
          151.29,
          150.72,
          148.79,
          150.04,
          148.28,
          149.7,
          146.87,
          134.87,
          139.5,
          138.92,
          138.38,
          138.88,
          145.03,
          150.65,
          153.34,
          155.74,
          144.8,
          149.35,
          152.34,
          149.45,
          147.27,
          143.39,
          143.86,
          143.75,
          142.41,
          138.38,
          142.99,
          138.34,
          138.98,
          140.42,
          140.09,
          145.43,
          146.4,
          146.1,
          142.45,
          138.2,
          142.48,
          149.84,
          151.76,
          150.77,
          150.43,
          152.74,
          153.72,
          156.9,
          154.48,
          150.7,
          152.37,
          155.31,
          153.84,
          163.43,
          157.37,
          154.46,
          155.96,
          154.53,
          155.81,
          157.96,
          157.22,
          158.91,
          161.38,
          163.62,
          170.03,
          167.53,
          167.23,
          167.57,
          171.52,
          174.15,
          174.55,
          173.03,
          173.19,
          172.1,
          168.49,
          169.24
         ],
         "high": [
          129.95,
          130.4814,
          131.0275,
          131.41,
          132.415,
          134.56,
          136.81,
          133.25,
          135.2,
          137.65,
          141.8,
          146.655,
          149.9692,
          144.5,
          145.57,
          143.52,
          143.37,
          147.3,
          150.9199,
          148,
          149.13,
          148.72,
          144.81,
          146.64,
          148.88,
          151.83,
          150.42,
          150.37,
          152.7,
          151.48,
          149.87,
          153.59,
          150.28,
          150.01,
          146.87,
          138.55,
          141.43,
          139.145,
          142.67,
          142.8,
          152.17,
          155.45,
          154.24,
          157.5,
          149.046,
          151.99,
          152.49,
          150.23,
          147.8479,
          145.89,
          144.9492,
          146.7,
          142.9,
          144.52,
          143.59,
          140.36,
          141.35,
          141.89,
          143.1,
          147.54,
          147.38,
          146.22,
          143.07,
          143.1,
          146.72,
          150.6414,
          154.72,
          153.7701,
          151.47,
          154.47,
          158.74,
          158.08,
          154.56,
          151.35,
          155.24,
          157.1,
          160.54,
          164.26,
          157.82,
          156.36,
          156.67,
          157.09,
          160.362,
          158.42,
          160.58,
          162.56,
          162.9,
          171.05,
          170.14,
          168.11,
          168.71,
          169.86,
          173.74,
          174.9,
          176.15,
          173.71,
          173.39,
          172.17,
          170.99,
          169.34
         ],
         "low": [
          127.43,
          127.73,
          125.87,
          128.72,
          129.64,
          130.3,
          132.75,
          129.89,
          131.32,
          133.73,
          136.025,
          141.16,
          144.24,
          141.06,
          140.9,
          141.1,
          140,
          141.92,
          145.77,
          145.65,
          146.61,
          140.55,
          140.355,
          143.38,
          147.12,
          149.34,
          146.925,
          147.715,
          149.97,
          146.15,
          147.29,
          148.5613,
          147.43,
          144.37,
          139.5,
          134.5933,
          137.49,
          135.671,
          134.38,
          138.75,
          145,
          149.13,
          151.92,
          147.82,
          144.13,
          148.04,
          149.36,
          146,
          142.649,
          142.65,
          141.5,
          140.61,
          140.27,
          138.19,
          134.37,
          138.16,
          138.22,
          138.5729,
          139.445,
          145.22,
          143.01,
          144.26,
          137.685,
          138,
          140.68,
          144.84,
          149.945,
          149.64,
          148.56,
          150.91,
          153.6,
          153.08,
          149.1,
          148.37,
          151.38,
          153.6106,
          153.37,
          159.3,
          154.75,
          152.68,
          153.61,
          153.69,
          154.965,
          154.67,
          157.14,
          157.72,
          159.82,
          163.56,
          168.35,
          166.245,
          166.65,
          167.135,
          171.3101,
          173.12,
          172.57,
          171.6618,
          171.345,
          169.4,
          168.19,
          166.9
         ],
         "open": [
          128.41,
          127.99,
          129.67,
          131.38,
          130.92,
          134.352,
          132.98,
          131.39,
          135.11,
          136.685,
          141.11,
          145.35,
          149.5,
          142.7,
          142.34,
          142.36,
          142.19,
          147.075,
          147.77,
          145.96,
          148.21,
          141.395,
          144.29,
          145.14,
          148.305,
          149.45,
          148.13,
          150.16,
          152.305,
          146.43,
          149.13,
          152.215,
          148.97,
          145.82,
          141.24,
          138.5,
          140.41,
          137.11,
          142.09,
          142.06,
          148.945,
          155.08,
          153.155,
          148.2,
          148.07,
          150.96,
          150.09,
          147.185,
          142.87,
          143.02,
          141.69,
          145.49,
          141.065,
          144.31,
          134.99,
          139.13,
          139.9,
          140.42,
          142.54,
          145.81,
          144.075,
          145.03,
          138.21,
          141.28,
          146.1,
          147.64,
          152.74,
          149.66,
          151.19,
          152.38,
          157.34,
          153.4,
          149.31,
          151.21,
          154.65,
          154.785,
          159.9,
          159.59,
          155.47,
          154.64,
          154.825,
          156.47,
          159.75,
          156.64,
          160.305,
          162.13,
          161.145,
          170.57,
          168.78,
          167.32,
          167.08,
          169.69,
          173.03,
          173.75,
          172.77,
          172.78,
          171.52,
          169.82,
          170.06,
          167.68
         ],
         "type": "candlestick",
         "x": [
          "2022-12-30",
          "2022-12-29",
          "2022-12-28",
          "2022-12-27",
          "2022-12-23",
          "2022-12-22",
          "2022-12-21",
          "2022-12-20",
          "2022-12-19",
          "2022-12-16",
          "2022-12-15",
          "2022-12-14",
          "2022-12-13",
          "2022-12-12",
          "2022-12-09",
          "2022-12-08",
          "2022-12-07",
          "2022-12-06",
          "2022-12-05",
          "2022-12-02",
          "2022-12-01",
          "2022-11-30",
          "2022-11-29",
          "2022-11-28",
          "2022-11-25",
          "2022-11-23",
          "2022-11-22",
          "2022-11-21",
          "2022-11-18",
          "2022-11-17",
          "2022-11-16",
          "2022-11-15",
          "2022-11-14",
          "2022-11-11",
          "2022-11-10",
          "2022-11-09",
          "2022-11-08",
          "2022-11-07",
          "2022-11-04",
          "2022-11-03",
          "2022-11-02",
          "2022-11-01",
          "2022-10-31",
          "2022-10-28",
          "2022-10-27",
          "2022-10-26",
          "2022-10-25",
          "2022-10-24",
          "2022-10-21",
          "2022-10-20",
          "2022-10-19",
          "2022-10-18",
          "2022-10-17",
          "2022-10-14",
          "2022-10-13",
          "2022-10-12",
          "2022-10-11",
          "2022-10-10",
          "2022-10-07",
          "2022-10-06",
          "2022-10-05",
          "2022-10-04",
          "2022-10-03",
          "2022-09-30",
          "2022-09-29",
          "2022-09-28",
          "2022-09-27",
          "2022-09-26",
          "2022-09-23",
          "2022-09-22",
          "2022-09-21",
          "2022-09-20",
          "2022-09-19",
          "2022-09-16",
          "2022-09-15",
          "2022-09-14",
          "2022-09-13",
          "2022-09-12",
          "2022-09-09",
          "2022-09-08",
          "2022-09-07",
          "2022-09-06",
          "2022-09-02",
          "2022-09-01",
          "2022-08-31",
          "2022-08-30",
          "2022-08-29",
          "2022-08-26",
          "2022-08-25",
          "2022-08-24",
          "2022-08-23",
          "2022-08-22",
          "2022-08-19",
          "2022-08-18",
          "2022-08-17",
          "2022-08-16",
          "2022-08-15",
          "2022-08-12",
          "2022-08-11",
          "2022-08-10"
         ]
        }
       ],
       "layout": {
        "template": {
         "data": {
          "bar": [
           {
            "error_x": {
             "color": "#2a3f5f"
            },
            "error_y": {
             "color": "#2a3f5f"
            },
            "marker": {
             "line": {
              "color": "#E5ECF6",
              "width": 0.5
             },
             "pattern": {
              "fillmode": "overlay",
              "size": 10,
              "solidity": 0.2
             }
            },
            "type": "bar"
           }
          ],
          "barpolar": [
           {
            "marker": {
             "line": {
              "color": "#E5ECF6",
              "width": 0.5
             },
             "pattern": {
              "fillmode": "overlay",
              "size": 10,
              "solidity": 0.2
             }
            },
            "type": "barpolar"
           }
          ],
          "carpet": [
           {
            "aaxis": {
             "endlinecolor": "#2a3f5f",
             "gridcolor": "white",
             "linecolor": "white",
             "minorgridcolor": "white",
             "startlinecolor": "#2a3f5f"
            },
            "baxis": {
             "endlinecolor": "#2a3f5f",
             "gridcolor": "white",
             "linecolor": "white",
             "minorgridcolor": "white",
             "startlinecolor": "#2a3f5f"
            },
            "type": "carpet"
           }
          ],
          "choropleth": [
           {
            "colorbar": {
             "outlinewidth": 0,
             "ticks": ""
            },
            "type": "choropleth"
           }
          ],
          "contour": [
           {
            "colorbar": {
             "outlinewidth": 0,
             "ticks": ""
            },
            "colorscale": [
             [
              0,
              "#0d0887"
             ],
             [
              0.1111111111111111,
              "#46039f"
             ],
             [
              0.2222222222222222,
              "#7201a8"
             ],
             [
              0.3333333333333333,
              "#9c179e"
             ],
             [
              0.4444444444444444,
              "#bd3786"
             ],
             [
              0.5555555555555556,
              "#d8576b"
             ],
             [
              0.6666666666666666,
              "#ed7953"
             ],
             [
              0.7777777777777778,
              "#fb9f3a"
             ],
             [
              0.8888888888888888,
              "#fdca26"
             ],
             [
              1,
              "#f0f921"
             ]
            ],
            "type": "contour"
           }
          ],
          "contourcarpet": [
           {
            "colorbar": {
             "outlinewidth": 0,
             "ticks": ""
            },
            "type": "contourcarpet"
           }
          ],
          "heatmap": [
           {
            "colorbar": {
             "outlinewidth": 0,
             "ticks": ""
            },
            "colorscale": [
             [
              0,
              "#0d0887"
             ],
             [
              0.1111111111111111,
              "#46039f"
             ],
             [
              0.2222222222222222,
              "#7201a8"
             ],
             [
              0.3333333333333333,
              "#9c179e"
             ],
             [
              0.4444444444444444,
              "#bd3786"
             ],
             [
              0.5555555555555556,
              "#d8576b"
             ],
             [
              0.6666666666666666,
              "#ed7953"
             ],
             [
              0.7777777777777778,
              "#fb9f3a"
             ],
             [
              0.8888888888888888,
              "#fdca26"
             ],
             [
              1,
              "#f0f921"
             ]
            ],
            "type": "heatmap"
           }
          ],
          "heatmapgl": [
           {
            "colorbar": {
             "outlinewidth": 0,
             "ticks": ""
            },
            "colorscale": [
             [
              0,
              "#0d0887"
             ],
             [
              0.1111111111111111,
              "#46039f"
             ],
             [
              0.2222222222222222,
              "#7201a8"
             ],
             [
              0.3333333333333333,
              "#9c179e"
             ],
             [
              0.4444444444444444,
              "#bd3786"
             ],
             [
              0.5555555555555556,
              "#d8576b"
             ],
             [
              0.6666666666666666,
              "#ed7953"
             ],
             [
              0.7777777777777778,
              "#fb9f3a"
             ],
             [
              0.8888888888888888,
              "#fdca26"
             ],
             [
              1,
              "#f0f921"
             ]
            ],
            "type": "heatmapgl"
           }
          ],
          "histogram": [
           {
            "marker": {
             "pattern": {
              "fillmode": "overlay",
              "size": 10,
              "solidity": 0.2
             }
            },
            "type": "histogram"
           }
          ],
          "histogram2d": [
           {
            "colorbar": {
             "outlinewidth": 0,
             "ticks": ""
            },
            "colorscale": [
             [
              0,
              "#0d0887"
             ],
             [
              0.1111111111111111,
              "#46039f"
             ],
             [
              0.2222222222222222,
              "#7201a8"
             ],
             [
              0.3333333333333333,
              "#9c179e"
             ],
             [
              0.4444444444444444,
              "#bd3786"
             ],
             [
              0.5555555555555556,
              "#d8576b"
             ],
             [
              0.6666666666666666,
              "#ed7953"
             ],
             [
              0.7777777777777778,
              "#fb9f3a"
             ],
             [
              0.8888888888888888,
              "#fdca26"
             ],
             [
              1,
              "#f0f921"
             ]
            ],
            "type": "histogram2d"
           }
          ],
          "histogram2dcontour": [
           {
            "colorbar": {
             "outlinewidth": 0,
             "ticks": ""
            },
            "colorscale": [
             [
              0,
              "#0d0887"
             ],
             [
              0.1111111111111111,
              "#46039f"
             ],
             [
              0.2222222222222222,
              "#7201a8"
             ],
             [
              0.3333333333333333,
              "#9c179e"
             ],
             [
              0.4444444444444444,
              "#bd3786"
             ],
             [
              0.5555555555555556,
              "#d8576b"
             ],
             [
              0.6666666666666666,
              "#ed7953"
             ],
             [
              0.7777777777777778,
              "#fb9f3a"
             ],
             [
              0.8888888888888888,
              "#fdca26"
             ],
             [
              1,
              "#f0f921"
             ]
            ],
            "type": "histogram2dcontour"
           }
          ],
          "mesh3d": [
           {
            "colorbar": {
             "outlinewidth": 0,
             "ticks": ""
            },
            "type": "mesh3d"
           }
          ],
          "parcoords": [
           {
            "line": {
             "colorbar": {
              "outlinewidth": 0,
              "ticks": ""
             }
            },
            "type": "parcoords"
           }
          ],
          "pie": [
           {
            "automargin": true,
            "type": "pie"
           }
          ],
          "scatter": [
           {
            "fillpattern": {
             "fillmode": "overlay",
             "size": 10,
             "solidity": 0.2
            },
            "type": "scatter"
           }
          ],
          "scatter3d": [
           {
            "line": {
             "colorbar": {
              "outlinewidth": 0,
              "ticks": ""
             }
            },
            "marker": {
             "colorbar": {
              "outlinewidth": 0,
              "ticks": ""
             }
            },
            "type": "scatter3d"
           }
          ],
          "scattercarpet": [
           {
            "marker": {
             "colorbar": {
              "outlinewidth": 0,
              "ticks": ""
             }
            },
            "type": "scattercarpet"
           }
          ],
          "scattergeo": [
           {
            "marker": {
             "colorbar": {
              "outlinewidth": 0,
              "ticks": ""
             }
            },
            "type": "scattergeo"
           }
          ],
          "scattergl": [
           {
            "marker": {
             "colorbar": {
              "outlinewidth": 0,
              "ticks": ""
             }
            },
            "type": "scattergl"
           }
          ],
          "scattermapbox": [
           {
            "marker": {
             "colorbar": {
              "outlinewidth": 0,
              "ticks": ""
             }
            },
            "type": "scattermapbox"
           }
          ],
          "scatterpolar": [
           {
            "marker": {
             "colorbar": {
              "outlinewidth": 0,
              "ticks": ""
             }
            },
            "type": "scatterpolar"
           }
          ],
          "scatterpolargl": [
           {
            "marker": {
             "colorbar": {
              "outlinewidth": 0,
              "ticks": ""
             }
            },
            "type": "scatterpolargl"
           }
          ],
          "scatterternary": [
           {
            "marker": {
             "colorbar": {
              "outlinewidth": 0,
              "ticks": ""
             }
            },
            "type": "scatterternary"
           }
          ],
          "surface": [
           {
            "colorbar": {
             "outlinewidth": 0,
             "ticks": ""
            },
            "colorscale": [
             [
              0,
              "#0d0887"
             ],
             [
              0.1111111111111111,
              "#46039f"
             ],
             [
              0.2222222222222222,
              "#7201a8"
             ],
             [
              0.3333333333333333,
              "#9c179e"
             ],
             [
              0.4444444444444444,
              "#bd3786"
             ],
             [
              0.5555555555555556,
              "#d8576b"
             ],
             [
              0.6666666666666666,
              "#ed7953"
             ],
             [
              0.7777777777777778,
              "#fb9f3a"
             ],
             [
              0.8888888888888888,
              "#fdca26"
             ],
             [
              1,
              "#f0f921"
             ]
            ],
            "type": "surface"
           }
          ],
          "table": [
           {
            "cells": {
             "fill": {
              "color": "#EBF0F8"
             },
             "line": {
              "color": "white"
             }
            },
            "header": {
             "fill": {
              "color": "#C8D4E3"
             },
             "line": {
              "color": "white"
             }
            },
            "type": "table"
           }
          ]
         },
         "layout": {
          "annotationdefaults": {
           "arrowcolor": "#2a3f5f",
           "arrowhead": 0,
           "arrowwidth": 1
          },
          "autotypenumbers": "strict",
          "coloraxis": {
           "colorbar": {
            "outlinewidth": 0,
            "ticks": ""
           }
          },
          "colorscale": {
           "diverging": [
            [
             0,
             "#8e0152"
            ],
            [
             0.1,
             "#c51b7d"
            ],
            [
             0.2,
             "#de77ae"
            ],
            [
             0.3,
             "#f1b6da"
            ],
            [
             0.4,
             "#fde0ef"
            ],
            [
             0.5,
             "#f7f7f7"
            ],
            [
             0.6,
             "#e6f5d0"
            ],
            [
             0.7,
             "#b8e186"
            ],
            [
             0.8,
             "#7fbc41"
            ],
            [
             0.9,
             "#4d9221"
            ],
            [
             1,
             "#276419"
            ]
           ],
           "sequential": [
            [
             0,
             "#0d0887"
            ],
            [
             0.1111111111111111,
             "#46039f"
            ],
            [
             0.2222222222222222,
             "#7201a8"
            ],
            [
             0.3333333333333333,
             "#9c179e"
            ],
            [
             0.4444444444444444,
             "#bd3786"
            ],
            [
             0.5555555555555556,
             "#d8576b"
            ],
            [
             0.6666666666666666,
             "#ed7953"
            ],
            [
             0.7777777777777778,
             "#fb9f3a"
            ],
            [
             0.8888888888888888,
             "#fdca26"
            ],
            [
             1,
             "#f0f921"
            ]
           ],
           "sequentialminus": [
            [
             0,
             "#0d0887"
            ],
            [
             0.1111111111111111,
             "#46039f"
            ],
            [
             0.2222222222222222,
             "#7201a8"
            ],
            [
             0.3333333333333333,
             "#9c179e"
            ],
            [
             0.4444444444444444,
             "#bd3786"
            ],
            [
             0.5555555555555556,
             "#d8576b"
            ],
            [
             0.6666666666666666,
             "#ed7953"
            ],
            [
             0.7777777777777778,
             "#fb9f3a"
            ],
            [
             0.8888888888888888,
             "#fdca26"
            ],
            [
             1,
             "#f0f921"
            ]
           ]
          },
          "colorway": [
           "#636efa",
           "#EF553B",
           "#00cc96",
           "#ab63fa",
           "#FFA15A",
           "#19d3f3",
           "#FF6692",
           "#B6E880",
           "#FF97FF",
           "#FECB52"
          ],
          "font": {
           "color": "#2a3f5f"
          },
          "geo": {
           "bgcolor": "white",
           "lakecolor": "white",
           "landcolor": "#E5ECF6",
           "showlakes": true,
           "showland": true,
           "subunitcolor": "white"
          },
          "hoverlabel": {
           "align": "left"
          },
          "hovermode": "closest",
          "mapbox": {
           "style": "light"
          },
          "paper_bgcolor": "white",
          "plot_bgcolor": "#E5ECF6",
          "polar": {
           "angularaxis": {
            "gridcolor": "white",
            "linecolor": "white",
            "ticks": ""
           },
           "bgcolor": "#E5ECF6",
           "radialaxis": {
            "gridcolor": "white",
            "linecolor": "white",
            "ticks": ""
           }
          },
          "scene": {
           "xaxis": {
            "backgroundcolor": "#E5ECF6",
            "gridcolor": "white",
            "gridwidth": 2,
            "linecolor": "white",
            "showbackground": true,
            "ticks": "",
            "zerolinecolor": "white"
           },
           "yaxis": {
            "backgroundcolor": "#E5ECF6",
            "gridcolor": "white",
            "gridwidth": 2,
            "linecolor": "white",
            "showbackground": true,
            "ticks": "",
            "zerolinecolor": "white"
           },
           "zaxis": {
            "backgroundcolor": "#E5ECF6",
            "gridcolor": "white",
            "gridwidth": 2,
            "linecolor": "white",
            "showbackground": true,
            "ticks": "",
            "zerolinecolor": "white"
           }
          },
          "shapedefaults": {
           "line": {
            "color": "#2a3f5f"
           }
          },
          "ternary": {
           "aaxis": {
            "gridcolor": "white",
            "linecolor": "white",
            "ticks": ""
           },
           "baxis": {
            "gridcolor": "white",
            "linecolor": "white",
            "ticks": ""
           },
           "bgcolor": "#E5ECF6",
           "caxis": {
            "gridcolor": "white",
            "linecolor": "white",
            "ticks": ""
           }
          },
          "title": {
           "x": 0.05
          },
          "xaxis": {
           "automargin": true,
           "gridcolor": "white",
           "linecolor": "white",
           "ticks": "",
           "title": {
            "standoff": 15
           },
           "zerolinecolor": "white",
           "zerolinewidth": 2
          },
          "yaxis": {
           "automargin": true,
           "gridcolor": "white",
           "linecolor": "white",
           "ticks": "",
           "title": {
            "standoff": 15
           },
           "zerolinecolor": "white",
           "zerolinewidth": 2
          }
         }
        }
       }
      }
     },
     "metadata": {},
     "output_type": "display_data"
    }
   ],
   "source": [
    "fig.show()"
   ]
  },
  {
   "cell_type": "code",
   "execution_count": 28,
   "metadata": {},
   "outputs": [
    {
     "ename": "TypeError",
     "evalue": "Expect data.index as DatetimeIndex",
     "output_type": "error",
     "traceback": [
      "\u001b[1;31m---------------------------------------------------------------------------\u001b[0m",
      "\u001b[1;31mTypeError\u001b[0m                                 Traceback (most recent call last)",
      "Cell \u001b[1;32mIn[28], line 3\u001b[0m\n\u001b[0;32m      1\u001b[0m \u001b[39mimport\u001b[39;00m \u001b[39mmplfinance\u001b[39;00m \u001b[39mas\u001b[39;00m \u001b[39mfplt\u001b[39;00m\n\u001b[1;32m----> 3\u001b[0m fplt\u001b[39m.\u001b[39;49mplot(\n\u001b[0;32m      4\u001b[0m     df,\n\u001b[0;32m      5\u001b[0m     \u001b[39mtype\u001b[39;49m\u001b[39m=\u001b[39;49m\u001b[39m'\u001b[39;49m\u001b[39mcandle\u001b[39;49m\u001b[39m'\u001b[39;49m,\n\u001b[0;32m      6\u001b[0m     title\u001b[39m=\u001b[39;49m\u001b[39m'\u001b[39;49m\u001b[39mApple, March - 2020\u001b[39;49m\u001b[39m'\u001b[39;49m,\n\u001b[0;32m      7\u001b[0m     ylabel\u001b[39m=\u001b[39;49m\u001b[39m'\u001b[39;49m\u001b[39mPrice ($)\u001b[39;49m\u001b[39m'\u001b[39;49m\n\u001b[0;32m      8\u001b[0m )\n",
      "File \u001b[1;32m~\\AppData\\Roaming\\Python\\Python310\\site-packages\\mplfinance\\plotting.py:417\u001b[0m, in \u001b[0;36mplot\u001b[1;34m(data, **kwargs)\u001b[0m\n\u001b[0;32m    414\u001b[0m \u001b[39m# translate alias types:\u001b[39;00m\n\u001b[0;32m    415\u001b[0m config[\u001b[39m'\u001b[39m\u001b[39mtype\u001b[39m\u001b[39m'\u001b[39m] \u001b[39m=\u001b[39m _get_valid_plot_types(config[\u001b[39m'\u001b[39m\u001b[39mtype\u001b[39m\u001b[39m'\u001b[39m])\n\u001b[1;32m--> 417\u001b[0m dates,opens,highs,lows,closes,volumes \u001b[39m=\u001b[39m _check_and_prepare_data(data, config)\n\u001b[0;32m    419\u001b[0m config[\u001b[39m'\u001b[39m\u001b[39mxlim\u001b[39m\u001b[39m'\u001b[39m] \u001b[39m=\u001b[39m _check_and_convert_xlim_configuration(data, config)\n\u001b[0;32m    421\u001b[0m \u001b[39mif\u001b[39;00m config[\u001b[39m'\u001b[39m\u001b[39mtype\u001b[39m\u001b[39m'\u001b[39m] \u001b[39min\u001b[39;00m VALID_PMOVE_TYPES \u001b[39mand\u001b[39;00m config[\u001b[39m'\u001b[39m\u001b[39maddplot\u001b[39m\u001b[39m'\u001b[39m] \u001b[39mis\u001b[39;00m \u001b[39mnot\u001b[39;00m \u001b[39mNone\u001b[39;00m:\n",
      "File \u001b[1;32m~\\AppData\\Roaming\\Python\\Python310\\site-packages\\mplfinance\\_arg_validators.py:31\u001b[0m, in \u001b[0;36m_check_and_prepare_data\u001b[1;34m(data, config)\u001b[0m\n\u001b[0;32m     28\u001b[0m     \u001b[39mraise\u001b[39;00m \u001b[39mTypeError\u001b[39;00m(\u001b[39m'\u001b[39m\u001b[39mExpect data as DataFrame\u001b[39m\u001b[39m'\u001b[39m)\n\u001b[0;32m     30\u001b[0m \u001b[39mif\u001b[39;00m \u001b[39mnot\u001b[39;00m \u001b[39misinstance\u001b[39m(data\u001b[39m.\u001b[39mindex,pd\u001b[39m.\u001b[39mcore\u001b[39m.\u001b[39mindexes\u001b[39m.\u001b[39mdatetimes\u001b[39m.\u001b[39mDatetimeIndex):\n\u001b[1;32m---> 31\u001b[0m     \u001b[39mraise\u001b[39;00m \u001b[39mTypeError\u001b[39;00m(\u001b[39m'\u001b[39m\u001b[39mExpect data.index as DatetimeIndex\u001b[39m\u001b[39m'\u001b[39m)\n\u001b[0;32m     33\u001b[0m \u001b[39m# We will not be fully case-insensitive (since Pandas columns as NOT case-insensitive)\u001b[39;00m\n\u001b[0;32m     34\u001b[0m \u001b[39m# but because so many people have requested it, for the default column names we will\u001b[39;00m\n\u001b[0;32m     35\u001b[0m \u001b[39m# try both Capitalized and lower case:\u001b[39;00m\n\u001b[0;32m     36\u001b[0m columns \u001b[39m=\u001b[39m config[\u001b[39m'\u001b[39m\u001b[39mcolumns\u001b[39m\u001b[39m'\u001b[39m]\n",
      "\u001b[1;31mTypeError\u001b[0m: Expect data.index as DatetimeIndex"
     ]
    }
   ],
   "source": [
    "import mplfinance as fplt\n",
    "\n",
    "fplt.plot(\n",
    "    df,\n",
    "    type='candle',\n",
    "    title='Apple, March - 2020',\n",
    "    ylabel='Price ($)'\n",
    ")"
   ]
  },
  {
   "cell_type": "code",
   "execution_count": null,
   "metadata": {},
   "outputs": [],
   "source": []
  }
 ],
 "metadata": {
  "kernelspec": {
   "display_name": "Python 3",
   "language": "python",
   "name": "python3"
  },
  "language_info": {
   "codemirror_mode": {
    "name": "ipython",
    "version": 3
   },
   "file_extension": ".py",
   "mimetype": "text/x-python",
   "name": "python",
   "nbconvert_exporter": "python",
   "pygments_lexer": "ipython3",
   "version": "3.10.4"
  },
  "orig_nbformat": 4,
  "vscode": {
   "interpreter": {
    "hash": "369f2c481f4da34e4445cda3fffd2e751bd1c4d706f27375911949ba6bb62e1c"
   }
  }
 },
 "nbformat": 4,
 "nbformat_minor": 2
}
